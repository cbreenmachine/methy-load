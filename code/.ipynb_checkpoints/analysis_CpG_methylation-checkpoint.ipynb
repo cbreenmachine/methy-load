{
 "cells": [
  {
   "cell_type": "markdown",
   "id": "frank-poison",
   "metadata": {},
   "source": [
    "This is a rough draft of pre-processing for methylation data. It's to get a sense of the data structure, etc. "
   ]
  },
  {
   "cell_type": "code",
   "execution_count": 35,
   "id": "polished-dayton",
   "metadata": {},
   "outputs": [],
   "source": [
    "library(data.table)\n",
    "library(tidyverse)"
   ]
  },
  {
   "cell_type": "code",
   "execution_count": 27,
   "id": "south-musical",
   "metadata": {},
   "outputs": [],
   "source": [
    "DT <- fread(\"../030_trial/extract/sample009_115_non_cpg.txt\")"
   ]
  },
  {
   "cell_type": "code",
   "execution_count": 28,
   "id": "partial-reynolds",
   "metadata": {},
   "outputs": [
    {
     "data": {
      "text/html": [
       "<table class=\"dataframe\">\n",
       "<caption>A data.table: 6 × 11</caption>\n",
       "<thead>\n",
       "\t<tr><th scope=col>Contig</th><th scope=col>Pos0</th><th scope=col>Pos1</th><th scope=col>Ref</th><th scope=col>sample009_115:Call</th><th scope=col>sample009_115:Flags</th><th scope=col>sample009_115:Meth</th><th scope=col>sample009_115:non_conv</th><th scope=col>sample009_115:conv</th><th scope=col>sample009_115:support_call</th><th scope=col>sample009_115:total</th></tr>\n",
       "\t<tr><th scope=col>&lt;chr&gt;</th><th scope=col>&lt;int&gt;</th><th scope=col>&lt;int&gt;</th><th scope=col>&lt;chr&gt;</th><th scope=col>&lt;chr&gt;</th><th scope=col>&lt;chr&gt;</th><th scope=col>&lt;dbl&gt;</th><th scope=col>&lt;int&gt;</th><th scope=col>&lt;int&gt;</th><th scope=col>&lt;int&gt;</th><th scope=col>&lt;int&gt;</th></tr>\n",
       "</thead>\n",
       "<tbody>\n",
       "\t<tr><td>GL000008.2</td><td>139</td><td>140</td><td>G</td><td>G</td><td>GQ=100;MQ=55;CX=GGG</td><td>0.255</td><td>2</td><td> 6</td><td>47</td><td>48</td></tr>\n",
       "\t<tr><td>GL000008.2</td><td>145</td><td>146</td><td>C</td><td>C</td><td>GQ=22;MQ=56;CX=CAC </td><td>0.011</td><td>1</td><td>47</td><td>55</td><td>55</td></tr>\n",
       "\t<tr><td>GL000008.2</td><td>153</td><td>154</td><td>G</td><td>G</td><td>GQ=103;MQ=56;CX=GAT</td><td>0.167</td><td>1</td><td> 5</td><td>40</td><td>40</td></tr>\n",
       "\t<tr><td>GL000008.2</td><td>175</td><td>176</td><td>G</td><td>G</td><td>GQ=121;MQ=57;CX=GGA</td><td>0.255</td><td>1</td><td> 3</td><td>44</td><td>44</td></tr>\n",
       "\t<tr><td>GL000008.2</td><td>176</td><td>177</td><td>G</td><td>G</td><td>GQ=124;MQ=57;CX=GAR</td><td>0.202</td><td>1</td><td> 4</td><td>46</td><td>46</td></tr>\n",
       "\t<tr><td>GL000008.2</td><td>180</td><td>181</td><td>G</td><td>G</td><td>GQ=121;MQ=57;CX=GGA</td><td>0.202</td><td>1</td><td> 4</td><td>45</td><td>45</td></tr>\n",
       "</tbody>\n",
       "</table>\n"
      ],
      "text/latex": [
       "A data.table: 6 × 11\n",
       "\\begin{tabular}{lllllllllll}\n",
       " Contig & Pos0 & Pos1 & Ref & sample009\\_115:Call & sample009\\_115:Flags & sample009\\_115:Meth & sample009\\_115:non\\_conv & sample009\\_115:conv & sample009\\_115:support\\_call & sample009\\_115:total\\\\\n",
       " <chr> & <int> & <int> & <chr> & <chr> & <chr> & <dbl> & <int> & <int> & <int> & <int>\\\\\n",
       "\\hline\n",
       "\t GL000008.2 & 139 & 140 & G & G & GQ=100;MQ=55;CX=GGG & 0.255 & 2 &  6 & 47 & 48\\\\\n",
       "\t GL000008.2 & 145 & 146 & C & C & GQ=22;MQ=56;CX=CAC  & 0.011 & 1 & 47 & 55 & 55\\\\\n",
       "\t GL000008.2 & 153 & 154 & G & G & GQ=103;MQ=56;CX=GAT & 0.167 & 1 &  5 & 40 & 40\\\\\n",
       "\t GL000008.2 & 175 & 176 & G & G & GQ=121;MQ=57;CX=GGA & 0.255 & 1 &  3 & 44 & 44\\\\\n",
       "\t GL000008.2 & 176 & 177 & G & G & GQ=124;MQ=57;CX=GAR & 0.202 & 1 &  4 & 46 & 46\\\\\n",
       "\t GL000008.2 & 180 & 181 & G & G & GQ=121;MQ=57;CX=GGA & 0.202 & 1 &  4 & 45 & 45\\\\\n",
       "\\end{tabular}\n"
      ],
      "text/markdown": [
       "\n",
       "A data.table: 6 × 11\n",
       "\n",
       "| Contig &lt;chr&gt; | Pos0 &lt;int&gt; | Pos1 &lt;int&gt; | Ref &lt;chr&gt; | sample009_115:Call &lt;chr&gt; | sample009_115:Flags &lt;chr&gt; | sample009_115:Meth &lt;dbl&gt; | sample009_115:non_conv &lt;int&gt; | sample009_115:conv &lt;int&gt; | sample009_115:support_call &lt;int&gt; | sample009_115:total &lt;int&gt; |\n",
       "|---|---|---|---|---|---|---|---|---|---|---|\n",
       "| GL000008.2 | 139 | 140 | G | G | GQ=100;MQ=55;CX=GGG | 0.255 | 2 |  6 | 47 | 48 |\n",
       "| GL000008.2 | 145 | 146 | C | C | GQ=22;MQ=56;CX=CAC  | 0.011 | 1 | 47 | 55 | 55 |\n",
       "| GL000008.2 | 153 | 154 | G | G | GQ=103;MQ=56;CX=GAT | 0.167 | 1 |  5 | 40 | 40 |\n",
       "| GL000008.2 | 175 | 176 | G | G | GQ=121;MQ=57;CX=GGA | 0.255 | 1 |  3 | 44 | 44 |\n",
       "| GL000008.2 | 176 | 177 | G | G | GQ=124;MQ=57;CX=GAR | 0.202 | 1 |  4 | 46 | 46 |\n",
       "| GL000008.2 | 180 | 181 | G | G | GQ=121;MQ=57;CX=GGA | 0.202 | 1 |  4 | 45 | 45 |\n",
       "\n"
      ],
      "text/plain": [
       "  Contig     Pos0 Pos1 Ref sample009_115:Call sample009_115:Flags\n",
       "1 GL000008.2 139  140  G   G                  GQ=100;MQ=55;CX=GGG\n",
       "2 GL000008.2 145  146  C   C                  GQ=22;MQ=56;CX=CAC \n",
       "3 GL000008.2 153  154  G   G                  GQ=103;MQ=56;CX=GAT\n",
       "4 GL000008.2 175  176  G   G                  GQ=121;MQ=57;CX=GGA\n",
       "5 GL000008.2 176  177  G   G                  GQ=124;MQ=57;CX=GAR\n",
       "6 GL000008.2 180  181  G   G                  GQ=121;MQ=57;CX=GGA\n",
       "  sample009_115:Meth sample009_115:non_conv sample009_115:conv\n",
       "1 0.255              2                       6                \n",
       "2 0.011              1                      47                \n",
       "3 0.167              1                       5                \n",
       "4 0.255              1                       3                \n",
       "5 0.202              1                       4                \n",
       "6 0.202              1                       4                \n",
       "  sample009_115:support_call sample009_115:total\n",
       "1 47                         48                 \n",
       "2 55                         55                 \n",
       "3 40                         40                 \n",
       "4 44                         44                 \n",
       "5 46                         46                 \n",
       "6 45                         45                 "
      ]
     },
     "metadata": {},
     "output_type": "display_data"
    }
   ],
   "source": [
    "head(DT)"
   ]
  },
  {
   "cell_type": "code",
   "execution_count": 34,
   "id": "consecutive-customer",
   "metadata": {},
   "outputs": [
    {
     "data": {
      "text/html": [
       "31743412"
      ],
      "text/latex": [
       "31743412"
      ],
      "text/markdown": [
       "31743412"
      ],
      "text/plain": [
       "[1] 31743412"
      ]
     },
     "metadata": {},
     "output_type": "display_data"
    }
   ],
   "source": [
    "length(DT[, methylation])"
   ]
  },
  {
   "cell_type": "code",
   "execution_count": 30,
   "id": "loved-consumer",
   "metadata": {},
   "outputs": [],
   "source": []
  },
  {
   "cell_type": "code",
   "execution_count": null,
   "id": "constant-royalty",
   "metadata": {},
   "outputs": [],
   "source": [
    "clean_DT <- function(DT.raw){\n",
    "    names(DT) <- c(\"contig\", \"pos0\", \"pos1\", \"ref\", \"call\", \n",
    "                   \"flags\", \"methylation\", \"non_conv\", \"conv\", \"call\", \"total\")\n",
    "}"
   ]
  },
  {
   "cell_type": "markdown",
   "id": "alpha-administrator",
   "metadata": {},
   "source": [
    "Makes sense, we expect about 1% of sites to be CpG sites."
   ]
  },
  {
   "cell_type": "code",
   "execution_count": 45,
   "id": "mounted-growing",
   "metadata": {},
   "outputs": [],
   "source": [
    "DT.1 <- DT[sample(.N, 1000)]\n",
    "DT.2 <- DT[sample(.N, 100)]"
   ]
  },
  {
   "cell_type": "code",
   "execution_count": 48,
   "id": "settled-working",
   "metadata": {},
   "outputs": [
    {
     "data": {
      "image/png": "[encoded data removed]",
      "text/plain": [
       "Plot with title “Histogram of DT.1[, methylation]”"
      ]
     },
     "metadata": {
      "image/png": {
       "height": 420,
       "width": 420
      }
     },
     "output_type": "display_data"
    }
   ],
   "source": [
    "hist(DT.1[, methylation])"
   ]
  },
  {
   "cell_type": "code",
   "execution_count": null,
   "id": "competitive-settle",
   "metadata": {},
   "outputs": [],
   "source": []
  }
 ],
 "metadata": {
  "kernelspec": {
   "display_name": "R [conda env:loadR]",
   "language": "R",
   "name": "conda-env-loadR-r"
  },
  "language_info": {
   "codemirror_mode": "r",
   "file_extension": ".r",
   "mimetype": "text/x-r-source",
   "name": "R",
   "pygments_lexer": "r",
   "version": "4.0.3"
  }
 },
 "nbformat": 4,
 "nbformat_minor": 5
}
