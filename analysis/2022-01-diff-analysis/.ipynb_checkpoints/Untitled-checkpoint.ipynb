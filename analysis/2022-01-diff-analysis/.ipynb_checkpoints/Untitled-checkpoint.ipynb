{
 "cells": [
  {
   "cell_type": "code",
   "execution_count": 9,
   "id": "474cccde",
   "metadata": {},
   "outputs": [
    {
     "name": "stderr",
     "output_type": "stream",
     "text": [
      "Loading required package: stats4\n",
      "\n",
      "Loading required package: BiocGenerics\n",
      "\n",
      "Loading required package: parallel\n",
      "\n",
      "\n",
      "Attaching package: ‘BiocGenerics’\n",
      "\n",
      "\n",
      "The following objects are masked from ‘package:parallel’:\n",
      "\n",
      "    clusterApply, clusterApplyLB, clusterCall, clusterEvalQ,\n",
      "    clusterExport, clusterMap, parApply, parCapply, parLapply,\n",
      "    parLapplyLB, parRapply, parSapply, parSapplyLB\n",
      "\n",
      "\n",
      "The following objects are masked from ‘package:dplyr’:\n",
      "\n",
      "    combine, intersect, setdiff, union\n",
      "\n",
      "\n",
      "The following objects are masked from ‘package:stats’:\n",
      "\n",
      "    IQR, mad, sd, var, xtabs\n",
      "\n",
      "\n",
      "The following objects are masked from ‘package:base’:\n",
      "\n",
      "    anyDuplicated, append, as.data.frame, basename, cbind, colnames,\n",
      "    dirname, do.call, duplicated, eval, evalq, Filter, Find, get, grep,\n",
      "    grepl, intersect, is.unsorted, lapply, Map, mapply, match, mget,\n",
      "    order, paste, pmax, pmax.int, pmin, pmin.int, Position, rank,\n",
      "    rbind, Reduce, rownames, sapply, setdiff, sort, table, tapply,\n",
      "    union, unique, unsplit, which.max, which.min\n",
      "\n",
      "\n",
      "Loading required package: S4Vectors\n",
      "\n",
      "\n",
      "Attaching package: ‘S4Vectors’\n",
      "\n",
      "\n",
      "The following objects are masked from ‘package:dplyr’:\n",
      "\n",
      "    first, rename\n",
      "\n",
      "\n",
      "The following object is masked from ‘package:tidyr’:\n",
      "\n",
      "    expand\n",
      "\n",
      "\n",
      "The following object is masked from ‘package:base’:\n",
      "\n",
      "    expand.grid\n",
      "\n",
      "\n",
      "Loading required package: IRanges\n",
      "\n",
      "\n",
      "Attaching package: ‘IRanges’\n",
      "\n",
      "\n",
      "The following objects are masked from ‘package:dplyr’:\n",
      "\n",
      "    collapse, desc, slice\n",
      "\n",
      "\n",
      "The following object is masked from ‘package:purrr’:\n",
      "\n",
      "    reduce\n",
      "\n",
      "\n",
      "Loading required package: GenomeInfoDb\n",
      "\n"
     ]
    }
   ],
   "source": [
    "library(tidyverse)\n",
    "library(GenomicRanges)"
   ]
  },
  {
   "cell_type": "code",
   "execution_count": 18,
   "id": "c549b06b",
   "metadata": {},
   "outputs": [
    {
     "name": "stderr",
     "output_type": "stream",
     "text": [
      "\u001b[1mRows: \u001b[22m\u001b[34m36\u001b[39m \u001b[1mColumns: \u001b[22m\u001b[34m6\u001b[39m\n",
      "\n",
      "\u001b[36m──\u001b[39m \u001b[1mColumn specification\u001b[22m \u001b[36m────────────────────────────────────────────────────────────────────────────────────────────────────────\u001b[39m\n",
      "\u001b[1mDelimiter:\u001b[22m \",\"\n",
      "\u001b[31mchr\u001b[39m (1): chr\n",
      "\u001b[32mdbl\u001b[39m (5): start, end, length, nCG, areaStat\n",
      "\n",
      "\n",
      "\u001b[36mℹ\u001b[39m Use \u001b[30m\u001b[47m\u001b[30m\u001b[47m`spec()`\u001b[47m\u001b[30m\u001b[49m\u001b[39m to retrieve the full column specification for this data.\n",
      "\u001b[36mℹ\u001b[39m Specify the column types or set \u001b[30m\u001b[47m\u001b[30m\u001b[47m`show_col_types = FALSE`\u001b[47m\u001b[30m\u001b[49m\u001b[39m to quiet this message.\n",
      "\n",
      "\u001b[1mRows: \u001b[22m\u001b[34m477\u001b[39m \u001b[1mColumns: \u001b[22m\u001b[34m10\u001b[39m\n",
      "\n",
      "\u001b[36m──\u001b[39m \u001b[1mColumn specification\u001b[22m \u001b[36m────────────────────────────────────────────────────────────────────────────────────────────────────────\u001b[39m\n",
      "\u001b[1mDelimiter:\u001b[22m \",\"\n",
      "\u001b[31mchr\u001b[39m (4): seqnames, strand, CpG_id, island\n",
      "\u001b[32mdbl\u001b[39m (5): group, start, end, width, aLIS\n",
      "\u001b[33mlgl\u001b[39m (1): group_name\n",
      "\n",
      "\n",
      "\u001b[36mℹ\u001b[39m Use \u001b[30m\u001b[47m\u001b[30m\u001b[47m`spec()`\u001b[47m\u001b[30m\u001b[49m\u001b[39m to retrieve the full column specification for this data.\n",
      "\u001b[36mℹ\u001b[39m Specify the column types or set \u001b[30m\u001b[47m\u001b[30m\u001b[47m`show_col_types = FALSE`\u001b[47m\u001b[30m\u001b[49m\u001b[39m to quiet this message.\n",
      "\n"
     ]
    }
   ],
   "source": [
    "dmrs <- read_csv(\"result-chr6/dmrs.csv\")\n",
    "old.dmrs <- read_csv(\"./pub-2018Madrid-DMPs.lifted.csv\") %>% filter( seqnames == \"chr6\")"
   ]
  },
  {
   "cell_type": "code",
   "execution_count": 19,
   "id": "197d811c",
   "metadata": {},
   "outputs": [
    {
     "data": {
      "text/html": [
       "75"
      ],
      "text/latex": [
       "75"
      ],
      "text/markdown": [
       "75"
      ],
      "text/plain": [
       "[1] 75"
      ]
     },
     "metadata": {},
     "output_type": "display_data"
    }
   ],
   "source": [
    "nrow(old.dmrs)"
   ]
  },
  {
   "cell_type": "code",
   "execution_count": 11,
   "id": "52c50a86",
   "metadata": {},
   "outputs": [],
   "source": [
    "dmrs <- GRanges(dmrs)"
   ]
  },
  {
   "cell_type": "code",
   "execution_count": 20,
   "id": "6beb8513",
   "metadata": {},
   "outputs": [],
   "source": [
    "old.dmrs <- GRanges(old.dmrs)"
   ]
  },
  {
   "cell_type": "code",
   "execution_count": 21,
   "id": "0d59994e",
   "metadata": {},
   "outputs": [
    {
     "data": {
      "text/plain": [
       "GRanges object with 75 ranges and 5 metadata columns:\n",
       "       seqnames              ranges strand |     group group_name      CpG_id\n",
       "          <Rle>           <IRanges>  <Rle> | <numeric>  <logical> <character>\n",
       "   [1]     chr6       291859-291860      * |       100       <NA>  cg17876578\n",
       "   [2]     chr6       291882-291883      * |       101       <NA>  cg21548813\n",
       "   [3]     chr6       291903-291904      * |       102       <NA>  cg03395511\n",
       "   [4]     chr6       292329-292330      * |       103       <NA>  cg18110333\n",
       "   [5]     chr6       292385-292386      * |       104       <NA>  cg05064044\n",
       "   ...      ...                 ...    ... .       ...        ...         ...\n",
       "  [71]     chr6 151325466-151325467      * |       170       <NA>  cg03446012\n",
       "  [72]     chr6 151325516-151325517      * |       171       <NA>  cg18245460\n",
       "  [73]     chr6 151325626-151325627      * |       172       <NA>  cg12794224\n",
       "  [74]     chr6 151325682-151325683      * |       173       <NA>  cg25855249\n",
       "  [75]     chr6 151325822-151325823      * |       174       <NA>  cg06019170\n",
       "             aLIS      island\n",
       "        <numeric> <character>\n",
       "   [1] 0.04624335     N_Shore\n",
       "   [2] 0.02235509     N_Shore\n",
       "   [3] 0.01250034     N_Shore\n",
       "   [4] 0.00694083      Island\n",
       "   [5] 0.00381319      Island\n",
       "   ...        ...         ...\n",
       "  [71] 0.00327449     N_Shore\n",
       "  [72] 0.01164070     N_Shore\n",
       "  [73] 0.01284235      Island\n",
       "  [74] 0.01537211      Island\n",
       "  [75] 0.03993717      Island\n",
       "  -------\n",
       "  seqinfo: 1 sequence from an unspecified genome; no seqlengths"
      ]
     },
     "metadata": {},
     "output_type": "display_data"
    }
   ],
   "source": [
    "old.dmrs"
   ]
  },
  {
   "cell_type": "code",
   "execution_count": 15,
   "id": "ef256dc1",
   "metadata": {},
   "outputs": [
    {
     "ename": "ERROR",
     "evalue": "Error in for (r in old.dmrs) {: invalid for() loop sequence\n",
     "output_type": "error",
     "traceback": [
      "Error in for (r in old.dmrs) {: invalid for() loop sequence\nTraceback:\n"
     ]
    }
   ],
   "source": [
    "for (r in old.dmrs){\n",
    "    print(r)\n",
    "}"
   ]
  },
  {
   "cell_type": "code",
   "execution_count": null,
   "id": "dc3c703f",
   "metadata": {},
   "outputs": [],
   "source": []
  }
 ],
 "metadata": {
  "kernelspec": {
   "display_name": "R [conda env:R] *",
   "language": "R",
   "name": "conda-env-R-r"
  },
  "language_info": {
   "codemirror_mode": "r",
   "file_extension": ".r",
   "mimetype": "text/x-r-source",
   "name": "R",
   "pygments_lexer": "r",
   "version": "4.0.3"
  }
 },
 "nbformat": 4,
 "nbformat_minor": 5
}
