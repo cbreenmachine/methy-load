{
 "cells": [
  {
   "cell_type": "markdown",
   "id": "bc37a725",
   "metadata": {},
   "source": [
    "### Kinds of Plots\n",
    "\n",
    "- The \"toddler\" plot--all curves from all patients colored by case/control with data points for each sample (DONE)\n",
    "- One curve (one color) for case/control with data points for each sample (DONE)\n",
    "- One point for case/control at each location (average across sites)\n",
    "\n",
    "### Tracks\n",
    "\n",
    "- Promoter region / etc\n",
    "- CpG islands\n",
    "- GC content\n",
    "- Expression?\n",
    "\n",
    "### Zoom\n",
    "Window at boundaries; then +/- 100; 1000; 10,000\n",
    "\n",
    "### Color\n",
    "https://cran.r-project.org/web/packages/ggsci/vignettes/ggsci.html"
   ]
  },
  {
   "cell_type": "code",
   "execution_count": 14,
   "id": "cca95bd6",
   "metadata": {},
   "outputs": [],
   "source": [
    "library(DSS)\n",
    "library(Gviz)\n",
    "library(tidyverse)\n",
    "library(data.table)\n",
    "library(ggsci)\n",
    "library(parallel)\n",
    "library(scales)\n",
    "library(wiscR)"
   ]
  },
  {
   "cell_type": "code",
   "execution_count": 15,
   "id": "655ba6f0",
   "metadata": {},
   "outputs": [
    {
     "name": "stderr",
     "output_type": "stream",
     "text": [
      "\u001b[1mRows: \u001b[22m\u001b[34m2\u001b[39m \u001b[1mColumns: \u001b[22m\u001b[34m4\u001b[39m\n",
      "\n",
      "\u001b[36m──\u001b[39m \u001b[1mColumn specification\u001b[22m \u001b[36m────────────────────────────────────────────────────────────────────────────────────────────────────────────────────────────────────────────────\u001b[39m\n",
      "\u001b[1mDelimiter:\u001b[22m \",\"\n",
      "\u001b[31mchr\u001b[39m (2): chr, name\n",
      "\u001b[32mdbl\u001b[39m (2): start, end\n",
      "\n",
      "\n",
      "\u001b[36mℹ\u001b[39m Use \u001b[30m\u001b[47m\u001b[30m\u001b[47m`spec()`\u001b[47m\u001b[30m\u001b[49m\u001b[39m to retrieve the full column specification for this data.\n",
      "\u001b[36mℹ\u001b[39m Specify the column types or set \u001b[30m\u001b[47m\u001b[30m\u001b[47m`show_col_types = FALSE`\u001b[47m\u001b[30m\u001b[49m\u001b[39m to quiet this message.\n",
      "\n"
     ]
    }
   ],
   "source": [
    "\n",
    "# user inputs\n",
    "CHR <- \"chr18\"\n",
    "GEN <- \"hg38\"\n",
    "FS <- 18 # fontsize\n",
    "\n",
    "#TODO: csv with chr,start,stop,Name \n",
    "# Then filter by chr matching our CHR\n",
    "# supp.df <- read_csv()\n",
    "idir <- paste0(\"./result-\", CHR, \"/\")\n",
    "\n",
    "roi.df <- read_csv(\"regions-of-interest.csv\")\n",
    "M <- fread(file.path(idir, \"M.csv\"))\n",
    "Cov <- fread(file.path(idir, \"Cov.csv\"))\n",
    "Meth <- fread(file.path(idir, \"methylation.csv\"))\n",
    "load(file.path(idir, \"test-values.RData\"))"
   ]
  },
  {
   "cell_type": "code",
   "execution_count": 16,
   "id": "7a0fe729",
   "metadata": {},
   "outputs": [],
   "source": [
    "NCOL <- 7\n",
    "colors <- pal_nejm(\"default\")(NCOL)\n",
    "#show_col(colors)"
   ]
  },
  {
   "cell_type": "code",
   "execution_count": 17,
   "id": "a8816435",
   "metadata": {},
   "outputs": [
    {
     "name": "stderr",
     "output_type": "stream",
     "text": [
      "\u001b[1mRows: \u001b[22m\u001b[34m83\u001b[39m \u001b[1mColumns: \u001b[22m\u001b[34m18\u001b[39m\n",
      "\n",
      "\u001b[36m──\u001b[39m \u001b[1mColumn specification\u001b[22m \u001b[36m────────────────────────────────────────────────────────────────────────────────────────────────────────────────────────────────────────────────\u001b[39m\n",
      "\u001b[1mDelimiter:\u001b[22m \",\"\n",
      "\u001b[31mchr\u001b[39m  (6): cohort, machine, pool, group, batch, sex\n",
      "\u001b[32mdbl\u001b[39m (12): sample, CD8T, CD4T, NK, Bcell, Mono, Gran, charlson_score, bmi, wa...\n",
      "\n",
      "\n",
      "\u001b[36mℹ\u001b[39m Use \u001b[30m\u001b[47m\u001b[30m\u001b[47m`spec()`\u001b[47m\u001b[30m\u001b[49m\u001b[39m to retrieve the full column specification for this data.\n",
      "\u001b[36mℹ\u001b[39m Specify the column types or set \u001b[30m\u001b[47m\u001b[30m\u001b[47m`show_col_types = FALSE`\u001b[47m\u001b[30m\u001b[49m\u001b[39m to quiet this message.\n",
      "\n"
     ]
    },
    {
     "name": "stdout",
     "output_type": "stream",
     "text": [
      " [1] 131 154 144 120 167 185 188 109 126 166 142 146 111 145 159 164 105 100 129\n",
      "[20] 112 125 147 115 104 170 110 108 107 136 161 143 148 174 158 116 132 134 186\n",
      "[39] 140 127 114 130 122 133 156 139 101 119 123 137 118 138 141 169 106 157 165\n",
      "[58] 163 135 113 168\n"
     ]
    }
   ],
   "source": [
    "df <- read_csv(\"../../data/meta/phenos-cleaned.csv\")\n",
    "#TODO: make parameters from command line...\n",
    "valid_samples <- intersect(colnames(Meth)[-1], df$sample)\n",
    "print(valid_samples)\n",
    "\n",
    "filt.df <- df %>% filter(sample %in% valid_samples)"
   ]
  },
  {
   "cell_type": "code",
   "execution_count": 18,
   "id": "954f410c",
   "metadata": {},
   "outputs": [],
   "source": [
    "dmrs <- callDMR(test.cohort, p.threshold=0.01, dis.merge = 2500, pct.sig = 0.5, minCG = 3)\n"
   ]
  },
  {
   "cell_type": "code",
   "execution_count": 19,
   "id": "917e63af",
   "metadata": {},
   "outputs": [
    {
     "name": "stderr",
     "output_type": "stream",
     "text": [
      "`stat_bin()` using `bins = 30`. Pick better value with `binwidth`.\n",
      "\n"
     ]
    },
    {
     "data": {
      "image/png": "[encoded data removed]",
      "text/plain": [
       "plot without title"
      ]
     },
     "metadata": {
      "image/png": {
       "height": 420,
       "width": 420
      }
     },
     "output_type": "display_data"
    }
   ],
   "source": [
    "dmrs %>%\n",
    "    ggplot(aes(x = nCG)) +\n",
    "    geom_histogram() +\n",
    "    wiscR::light_theme() "
   ]
  },
  {
   "cell_type": "markdown",
   "id": "cbd2240a",
   "metadata": {},
   "source": [
    "# callDMR\n",
    "\n",
    "Parameters that we can vary: \n",
    "- `p.threshold`\n",
    "- `minlen` is the minimum length in bp to be considered a region (default 50)\n",
    "- `minCG` (default 3)\n",
    "- `dis.merge` if two DMRs are dis.merge or fewer basepairs apart then they are merged.\n",
    "- `pct.sig` percentage of CG called significant"
   ]
  },
  {
   "cell_type": "code",
   "execution_count": 20,
   "id": "005f0cbe",
   "metadata": {},
   "outputs": [],
   "source": [
    "load.samples <- filt.df %>% filter(cohort == \"AD\") %>% pull(sample) %>% as.character()\n",
    "control.samples <- filt.df %>% filter(cohort == \"CONTROL\") %>% pull(sample) %>% as.character()"
   ]
  },
  {
   "cell_type": "code",
   "execution_count": 21,
   "id": "e831092d",
   "metadata": {},
   "outputs": [
    {
     "data": {
      "text/html": [
       "33"
      ],
      "text/latex": [
       "33"
      ],
      "text/markdown": [
       "33"
      ],
      "text/plain": [
       "[1] 33"
      ]
     },
     "metadata": {},
     "output_type": "display_data"
    },
    {
     "data": {
      "text/html": [
       "28"
      ],
      "text/latex": [
       "28"
      ],
      "text/markdown": [
       "28"
      ],
      "text/plain": [
       "[1] 28"
      ]
     },
     "metadata": {},
     "output_type": "display_data"
    }
   ],
   "source": [
    "length(load.samples)\n",
    "length(control.samples)"
   ]
  },
  {
   "cell_type": "code",
   "execution_count": 22,
   "id": "82da77fb",
   "metadata": {},
   "outputs": [],
   "source": [
    "prepare_granges <- function(DT, chr=CHR){\n",
    "    # Munges dataframe (changes column names)\n",
    "    # to be amenable to GRanges() constructor\n",
    "    DT.2 <- DT\n",
    "    \n",
    "    colnames(DT.2)[colnames(DT.2) == \"pos\"] <- \"start\"\n",
    "    DT.2$end <- DT.2$start + 2\n",
    "    DT.2$chr <- chr\n",
    "    return(DT.2)\n",
    "}\n",
    "\n",
    "\n",
    "\n",
    "make_difference_track <- function(Meth, load.samples, control.samples, chr = CHR){\n",
    "    \n",
    "    # Compute mean difference\n",
    "    meandiff <- rowMeans(Meth[ , load.samples, with = FALSE], na.rm = TRUE) - \n",
    "            rowMeans(Meth[ , control.samples, with = FALSE], na.rm = TRUE)\n",
    "    # Construct GRanges\n",
    "    dt <- data.table(diff=meandiff, chr=CHR, start=Meth$start, end=Meth$end) %>%\n",
    "            drop_na() # important to prevent errors\n",
    "    gr <- GRanges(dt)\n",
    "    track <- DataTrack(gr, type=c(\"p\", \"smooth\"), baseline=0, col=colors[2],\n",
    "                       col.baseline=\"black\", name=\"Mean Methylation Difference\", \n",
    "                       fontsize = FS)\n",
    "    return(track)\n",
    "} \n",
    "\n",
    "\n",
    "make_methylation_track <- function(Meth, group){\n",
    "    # Meth matrix should have been run through \n",
    "    DataTrack(GRanges(Meth), \n",
    "              groups = group, \n",
    "              name = \"Methylation\",                             \n",
    "              type = c(\"a\", \"p\"), \n",
    "              legend = TRUE) %>%\n",
    "    return()\n",
    "}\n",
    "\n",
    "\n",
    "make_cpg_track <- function(start, stop){\n",
    "    cpgIslands <- UcscTrack(genome = GEN, chromosome = CHR, \n",
    "                        track = \"cpgIslandExt\", \n",
    "                        from = start, to = stop,\n",
    "                        trackType = \"AnnotationTrack\", \n",
    "                        start = \"chromStart\", end = \"chromEnd\", \n",
    "                        id = \"name\", shape = \"box\", fill = colors[4], \n",
    "                        name = \"CpG Islands\", fontsize = FS)\n",
    "    return(cpgIslands)\n",
    "}\n",
    "\n",
    "\n",
    "make_snp_track <- function(start, stop){\n",
    "    \n",
    "    snpLocations <-  UcscTrack(genome = GEN, chromosome = CHR, \n",
    "                           track = \"snp141\", \n",
    "                           from = start, to = stop,\n",
    "                           trackType = \"AnnotationTrack\", \n",
    "                           start = \"chromStart\", end = \"chromEnd\", \n",
    "                           id = \"name\", feature = \"func\", \n",
    "                           strand = \"strand\", shape = \"box\", \n",
    "                           stacking = \"dense\", fill = colors[2],\n",
    "                           name = \"SNPs\", fontsize = FS)\n",
    "    return(snpLocations)\n",
    "}\n",
    "\n",
    "make_p_track <- function(test.cohort){\n",
    "     # Meth matrix should have been run through \n",
    "\n",
    "    data.frame(chr = test.cohort$chr, start = test.cohort$pos, stop = test.cohort$pos + 2, \n",
    "               log.p = -1*log10(test.cohort$pvals)) %>%\n",
    "        drop_na() %>%\n",
    "        GRanges() %>%\n",
    "        DataTrack(name = \"-log10(p)\", type = c(\"smooth\", \"p\"), \n",
    "              legend = TRUE, col=colors[1], fontsize = FS) %>%\n",
    "    return()\n",
    "}\n",
    "\n",
    "\n"
   ]
  },
  {
   "cell_type": "code",
   "execution_count": 23,
   "id": "492b214c",
   "metadata": {},
   "outputs": [],
   "source": [
    "Meth.2 <- prepare_granges(Meth)\n",
    "group <- filt.df$cohort[match(colnames(Meth)[-1], filt.df$sample)]"
   ]
  },
  {
   "cell_type": "code",
   "execution_count": 24,
   "id": "4eb05c66",
   "metadata": {},
   "outputs": [],
   "source": [
    "# \"Simple\" tracks without too many parameters\n",
    "dmrs.track <- AnnotationTrack(GRanges(dmrs), genome = GEN, name = \"DMRs\", fontsize = FS,\n",
    "                             fill = colors[3], col = \"white\")\n",
    "ideogram.track <- IdeogramTrack(genome = GEN, chromosome = CHR, fontsize = FS - 2)\n",
    "axis.track <- GenomeAxisTrack()\n",
    "p.track <- make_p_track(test.cohort)\n",
    "\n",
    "# Tracks from custom functions\n",
    "diff.track <- make_difference_track(Meth.2, load.samples, control.samples)\n",
    "\n",
    "# Show up on top of genomic information\n",
    "top.list <- list(ideogram.track, axis.track)\n",
    "\n",
    "# Show up below gneomic info\n",
    "bottom.list <- list(dmrs.track, p.track, diff.track)"
   ]
  },
  {
   "cell_type": "code",
   "execution_count": 25,
   "id": "02468ac9",
   "metadata": {},
   "outputs": [],
   "source": [
    "plot_all_tracks <- function(start, stop, top.tracks.list, bottom.tracks.list, \n",
    "                            odir, pad=c(100,1000, 10000)){\n",
    "    # start : starting position\n",
    "    # stop: stopping position\n",
    "    # tracks_list: list of tracks to plot, produced beforehand\n",
    "    # odir: where to save pngs\n",
    "    # pad: vector specifying how big a window\n",
    "    \n",
    "    # File setup\n",
    "    dir.create(odir, showWarnings=FALSE)\n",
    "    \n",
    "    # Make the genes track based on the largest window\n",
    "    a <- start - max(pad)\n",
    "    b <- stop + max(pad)\n",
    "    \n",
    "    # All the tracks\n",
    "    ref.genes.track <- make_gene_track(start = a, stop = b)\n",
    "    #snp.track <- make_snp_track(start = a, stop = b)\n",
    "    cpg.track <- make_cpg_track(start = a, stop = b)\n",
    "    \n",
    "    # Cobble together\n",
    "    mid.tracks.list <- list(ref.genes.track, cpg.track)\n",
    "        \n",
    "    # Loop thru padding values\n",
    "    for (p in pad){\n",
    "        a <- start - p\n",
    "        b <- stop  + p\n",
    "        \n",
    "        tracks.list <- append(top.tracks.list, mid.tracks.list)\n",
    "        tracks.list <- append(tracks.list, bottom.tracks.list)\n",
    "        \n",
    "        \n",
    "        # Save, how do we feel about default sizes?\n",
    "        pdf(paste0(odir, as.character(start), \"-\", as.character(p), \"-DMRs.pdf\"))\n",
    "        plotTracks(tracks.list, from = a, to = b, \n",
    "                   background.title = colors[6])\n",
    "        dev.off()\n",
    "    }    \n",
    "}"
   ]
  },
  {
   "cell_type": "code",
   "execution_count": null,
   "id": "9caaa364",
   "metadata": {},
   "outputs": [],
   "source": [
    "ix <- 1\n",
    "a <- dmrs$start[ix]\n",
    "b <- dmrs$end[ix]\n",
    "\n",
    "tmp <- make_gene_track(a, b)\n",
    "\n",
    "#plot_all_tracks(a, b, top.list, bottom.list, file.path(idir, \"figs/\"))"
   ]
  },
  {
   "cell_type": "code",
   "execution_count": null,
   "id": "c88c2954",
   "metadata": {},
   "outputs": [],
   "source": [
    "plot_by_ix <- function(ix){\n",
    "    plot_all_tracks(dmrs$start[ix], dmrs$end[ix], top.list, bottom.list, file.path(idir, \"figs/\"))\n",
    "}\n",
    "\n",
    "mclapply(1:nrow(dmrs), plot_by_ix, mc.cores = 8)"
   ]
  },
  {
   "cell_type": "markdown",
   "id": "11aa2f3c",
   "metadata": {},
   "source": [
    "# Regions of Interest"
   ]
  },
  {
   "cell_type": "code",
   "execution_count": 31,
   "id": "9ce3c810",
   "metadata": {},
   "outputs": [
    {
     "name": "stderr",
     "output_type": "stream",
     "text": [
      "Warning message in assign(i, as.numeric(val)):\n",
      "\"NAs introduced by coercion\"\n",
      "Warning message in assign(i, as.numeric(val)):\n",
      "\"NAs introduced by coercion\"\n"
     ]
    },
    {
     "ename": "ERROR",
     "evalue": "Error in .fillWithDefaults(data.frame(start = as.integer(start), end = as.integer(end)), : Number of elements in argument 'transcript' is invalid\n",
     "output_type": "error",
     "traceback": [
      "Error in .fillWithDefaults(data.frame(start = as.integer(start), end = as.integer(end)), : Number of elements in argument 'transcript' is invalid\nTraceback:\n",
      "1. make_gene_track(a, b)",
      "2. UcscTrack(track = \"knownGene\", type = \"GeneRegionTrack\", genome = gen, \n .     chromosome = chr, from = start, to = stop, trackType = \"GeneRegionTrack\", \n .     rstarts = \"exonStarts\", rends = \"exonEnds\", gene = \"name\", \n .     symbol = \"name\", transcript = \"name\", strand = \"strand\", \n .     fill = \"#8282d2\", name = \"UCSC Genes\")   # at line 22-29 of file <text>",
      "3. do.call(trackType, args = c(list(chromosome = chromosome, genome = genome, \n .     name = name), args))",
      "4. do.call(trackType, args = c(list(chromosome = chromosome, genome = genome, \n .     name = name), args))",
      "5. GeneRegionTrack(chromosome = \"chr18\", genome = \"hg38\", name = \"UCSC Genes\", \n .     type = \"GeneRegionTrack\", rstarts = \"exonStarts\", rends = \"exonEnds\", \n .     gene = c(\"ENST00000322342.4\", \"ENST00000537114.2\", \"ENST00000582437.1\", \n .     \"ENST00000581620.1\", \"ENST00000322038.5\", \"ENST00000580243.3\", \n .     \"ENST00000560918.2\"), symbol = c(\"ENST00000322342.4\", \"ENST00000537114.2\", \n .     \"ENST00000582437.1\", \"ENST00000581620.1\", \"ENST00000322038.5\", \n .     \"ENST00000580243.3\", \"ENST00000560918.2\"), transcript = c(\"ENST00000322342.4\", \n .     \"ENST00000537114.2\", \"ENST00000582437.1\", \"ENST00000581620.1\", \n .     \"ENST00000322038.5\", \"ENST00000580243.3\", \"ENST00000560918.2\"\n .     ), strand = c(\"-\", \"-\", \"-\", \"-\", \"+\", \"+\", \"+\"), fill = \"#8282d2\", \n .     start = 75165108, end = 75239506)",
      "6. .buildRange(range = range, groupId = \"transcript\", start = rstarts, \n .     end = rends, width = rwidths, args = args, defaults = defs, \n .     chromosome = chromosome, tstart = start, tend = end, trackType = \"GeneRegionTrack\", \n .     importFun = importFunction, genome = genome)",
      "7. .buildRange(range = range, groupId = \"transcript\", start = rstarts, \n .     end = rends, width = rwidths, args = args, defaults = defs, \n .     chromosome = chromosome, tstart = start, tend = end, trackType = \"GeneRegionTrack\", \n .     importFun = importFunction, genome = genome)",
      "8. .local(range, start, end, width, ...)",
      "9. .buildRange(start = start, end = end, width = width, asIRanges = asIRanges, \n .     by = by, len = len, ...)",
      "10. .buildRange(start = start, end = end, width = width, asIRanges = asIRanges, \n  .     by = by, len = len, ...)",
      "11. .local(range, start, end, width, ...)",
      "12. .fillWithDefaults(data.frame(start = as.integer(start), end = as.integer(end)), \n  .     defaults, args, len, by)",
      "13. stop(\"Number of elements in argument '\", a, \"' is invalid\")"
     ]
    }
   ],
   "source": [
    "roi.df <-roi.df %>% filter(chr == CHR)\n",
    "a <- roi.df$start[1] - 30000\n",
    "b <- roi.df$end[1] + 30000\n",
    "\n",
    "\n",
    "make_gene_track <- function(start, stop, gen=GEN, chr=CHR){\n",
    "    # Produces the track with exons, \n",
    "    \n",
    "    out <- UcscTrack(track = \"GENCODE V38\", name = \"something\",type=\"GeneRegionTrack\",\n",
    "                      genome = gen, chromosome = chr,\n",
    "                      from = start, to = stop,\n",
    "                      rstarts=\"thickStart\", rends=\"thickEnd\", \n",
    "                      gene=\"name\", symbol=\"name\", \n",
    "                      transcript=\"name\", strand=\"strand\",\n",
    "                      transcriptAnnotation = \"name\", showID=TRUE)\n",
    "    return(out)\n",
    "} \n",
    "\n",
    "make_gene_track <- function(start, stop, gen=GEN, chr=CHR){\n",
    "    # Produces the track with exons, \n",
    "    \n",
    "    out <- UcscTrack(track = \"knownGene\", type=\"GeneRegionTrack\",\n",
    "                      genome = gen, chromosome = chr,\n",
    "                      from = start, to = stop,\n",
    "                      trackType = \"GeneRegionTrack\", \n",
    "                        rstarts = \"exonStarts\", rends = \"exonEnds\", \n",
    "                        gene = \"name\", symbol = \"name\", \n",
    "                        transcript = \"name\", strand = \"strand\", \n",
    "                        fill = \"#8282d2\", name = \"UCSC Genes\")\n",
    "                    #transcriptAnnotation = \"name2\")\n",
    "    return(out)\n",
    "} \n",
    "\n",
    "\n",
    "\n",
    "tmp <- make_gene_track(a,b)\n",
    "plotTracks(tmp,a,b)\n",
    "\n",
    "#plot_all_tracks(, top.list, bottom.list, \n",
    " #               file.path(idir, \"figs/\", paste0(roi.df$name[1], \"/\")),\n",
    "  #              pad = c(1000, 3000, 5000))"
   ]
  },
  {
   "cell_type": "code",
   "execution_count": null,
   "id": "8b239c3a",
   "metadata": {},
   "outputs": [],
   "source": [
    "tmp"
   ]
  },
  {
   "cell_type": "code",
   "execution_count": 33,
   "id": "f8263e68",
   "metadata": {},
   "outputs": [],
   "source": [
    "from <- 65921878\n",
    "to <- 65980988\n",
    "\n",
    "knownGenes <- UcscTrack(genome=\"mm9\", chromosome=\"chrX\", track=\"knownGene\",\n",
    "from=from, to=to, trackType=\"GeneRegionTrack\",\n",
    "rstarts=\"exonStarts\", rends=\"exonEnds\", gene=\"name\",\n",
    "symbol=\"name\", transcript=\"name\", strand=\"strand\",\n",
    "fill=\"#8282d2\", name=\"UCSC Genes\")"
   ]
  },
  {
   "cell_type": "code",
   "execution_count": 39,
   "id": "c2593612",
   "metadata": {},
   "outputs": [
    {
     "name": "stdout",
     "output_type": "stream",
     "text": [
      "Formal class 'GeneRegionTrack' [package \"Gviz\"] with 10 slots\n",
      "  ..@ start     : num 65921878\n",
      "  ..@ end       : num 6.6e+07\n",
      "  ..@ stacking  : chr \"squish\"\n",
      "  ..@ stacks    : num(0) \n",
      "  ..@ range     :Formal class 'GRanges' [package \"GenomicRanges\"] with 7 slots\n",
      "  .. .. ..@ seqnames       :Formal class 'Rle' [package \"S4Vectors\"] with 4 slots\n",
      "  .. .. .. .. ..@ values         : Factor w/ 1 level \"chrX\": 1\n",
      "  .. .. .. .. ..@ lengths        : int 76\n",
      "  .. .. .. .. ..@ elementMetadata: NULL\n",
      "  .. .. .. .. ..@ metadata       : list()\n",
      "  .. .. ..@ ranges         :Formal class 'IRanges' [package \"IRanges\"] with 6 slots\n",
      "  .. .. .. .. ..@ start          : int [1:76] 65920688 65926493 65930188 65931354 65931729 65941456 65944675 65931729 65941456 65944675 ...\n",
      "  .. .. .. .. ..@ width          : int [1:76] 2355 58 113 221 314 54 995 314 54 95 ...\n",
      "  .. .. .. .. ..@ NAMES          : NULL\n",
      "  .. .. .. .. ..@ elementType    : chr \"ANY\"\n",
      "  .. .. .. .. ..@ elementMetadata: NULL\n",
      "  .. .. .. .. ..@ metadata       : list()\n",
      "  .. .. ..@ strand         :Formal class 'Rle' [package \"S4Vectors\"] with 4 slots\n",
      "  .. .. .. .. ..@ values         : Factor w/ 3 levels \"+\",\"-\",\"*\": 2 1\n",
      "  .. .. .. .. ..@ lengths        : int [1:2] 4 72\n",
      "  .. .. .. .. ..@ elementMetadata: NULL\n",
      "  .. .. .. .. ..@ metadata       : list()\n",
      "  .. .. ..@ seqinfo        :Formal class 'Seqinfo' [package \"GenomeInfoDb\"] with 4 slots\n",
      "  .. .. .. .. ..@ seqnames   : chr \"chrX\"\n",
      "  .. .. .. .. ..@ seqlengths : int NA\n",
      "  .. .. .. .. ..@ is_circular: logi NA\n",
      "  .. .. .. .. ..@ genome     : chr \"mm9\"\n",
      "  .. .. ..@ elementMetadata:Formal class 'DFrame' [package \"S4Vectors\"] with 6 slots\n",
      "  .. .. .. .. ..@ rownames       : NULL\n",
      "  .. .. .. .. ..@ nrows          : int 76\n",
      "  .. .. .. .. ..@ listData       :List of 7\n",
      "  .. .. .. .. .. ..$ feature   : chr [1:76] \"exon_1\" \"exon_1\" \"exon_1\" \"exon_1\" ...\n",
      "  .. .. .. .. .. ..$ id        : chr [1:76] \"exon_1\" \"exon_1\" \"exon_1\" \"exon_1\" ...\n",
      "  .. .. .. .. .. ..$ exon      : chr [1:76] \"exon_1\" \"exon_1\" \"exon_1\" \"exon_1\" ...\n",
      "  .. .. .. .. .. ..$ transcript: chr [1:76] \"uc012hjf.1\" \"uc012hjf.1\" \"uc012hjf.1\" \"uc012hjf.1\" ...\n",
      "  .. .. .. .. .. ..$ gene      : chr [1:76] \"uc012hjf.1\" \"uc012hjf.1\" \"uc012hjf.1\" \"uc012hjf.1\" ...\n",
      "  .. .. .. .. .. ..$ symbol    : chr [1:76] \"uc012hjf.1\" \"uc012hjf.1\" \"uc012hjf.1\" \"uc012hjf.1\" ...\n",
      "  .. .. .. .. .. ..$ density   : num [1:76] 1 1 1 1 1 1 1 1 1 1 ...\n",
      "  .. .. .. .. ..@ elementType    : chr \"ANY\"\n",
      "  .. .. .. .. ..@ elementMetadata: NULL\n",
      "  .. .. .. .. ..@ metadata       : list()\n",
      "  .. .. ..@ elementType    : chr \"ANY\"\n",
      "  .. .. ..@ metadata       : list()\n",
      "  ..@ chromosome: chr \"chrX\"\n",
      "  ..@ genome    : Named chr \"mm9\"\n",
      "  .. ..- attr(*, \"names\")= chr \"chrX\"\n",
      "  ..@ dp        :Formal class 'DisplayPars' [package \"Gviz\"] with 1 slot\n",
      "  .. .. ..@ pars:List of 72\n",
      "  .. .. .. ..$ arrowHeadWidth      : num 10\n",
      "  .. .. .. ..$ arrowHeadMaxWidth   : num 20\n",
      "  .. .. .. ..$ col                 : chr \"darkgray\"\n",
      "  .. .. .. ..$ collapseTranscripts : logi FALSE\n",
      "  .. .. .. ..$ exonAnnotation      : NULL\n",
      "  .. .. .. ..$ fill                : chr \"#8282d2\"\n",
      "  .. .. .. ..$ min.distance        : num 0\n",
      "  .. .. .. ..$ shape               : chr [1:2] \"smallArrow\" \"box\"\n",
      "  .. .. .. ..$ showExonId          : NULL\n",
      "  .. .. .. ..$ thinBoxFeature      : chr [1:10] \"utr\" \"ncRNA\" \"utr3\" \"utr5\" ...\n",
      "  .. .. .. ..$ transcriptAnnotation: NULL\n",
      "  .. .. .. ..$ .__appliedScheme    : chr \"default\"\n",
      "  .. .. .. ..$ cex.group           : num 0.6\n",
      "  .. .. .. ..$ cex                 : num 1\n",
      "  .. .. .. ..$ col.line            : chr \"darkgray\"\n",
      "  .. .. .. ..$ featureAnnotation   : NULL\n",
      "  .. .. .. ..$ fontfamily.group    : chr \"sans\"\n",
      "  .. .. .. ..$ fontcolor.group     : chr \"#808080\"\n",
      "  .. .. .. ..$ fontcolor.item      : chr \"white\"\n",
      "  .. .. .. ..$ fontface.group      : num 2\n",
      "  .. .. .. ..$ fontsize.group      : num 12\n",
      "  .. .. .. ..$ groupAnnotation     : NULL\n",
      "  .. .. .. ..$ just.group          : chr \"left\"\n",
      "  .. .. .. ..$ lex                 : num 1\n",
      "  .. .. .. ..$ lineheight          : num 1\n",
      "  .. .. .. ..$ lty                 : chr \"solid\"\n",
      "  .. .. .. ..$ lwd                 : num 1\n",
      "  .. .. .. ..$ mergeGroups         : logi FALSE\n",
      "  .. .. .. ..$ min.height          : num 3\n",
      "  .. .. .. ..$ min.width           : num 1\n",
      "  .. .. .. ..$ rotation            : num 0\n",
      "  .. .. .. ..$ rotation.group      : num 0\n",
      "  .. .. .. ..$ rotation.item       : num 0\n",
      "  .. .. .. ..$ showFeatureId       : NULL\n",
      "  .. .. .. ..$ showId              : NULL\n",
      "  .. .. .. ..$ showOverplotting    : logi FALSE\n",
      "  .. .. .. ..$ size                : num 1\n",
      "  .. .. .. ..$ stackHeight         : num 0.75\n",
      "  .. .. .. ..$ reverseStacking     : logi FALSE\n",
      "  .. .. .. ..$ alpha               : num 1\n",
      "  .. .. .. ..$ alpha.title         : NULL\n",
      "  .. .. .. ..$ background.panel    : chr \"transparent\"\n",
      "  .. .. .. ..$ background.title    : chr \"lightgray\"\n",
      "  .. .. .. ..$ background.legend   : chr \"transparent\"\n",
      "  .. .. .. ..$ cex.axis            : NULL\n",
      "  .. .. .. ..$ cex.title           : NULL\n",
      "  .. .. .. ..$ col.axis            : chr \"white\"\n",
      "  .. .. .. ..$ col.border.title    : chr \"white\"\n",
      "  .. .. .. ..$ col.frame           : chr \"lightgray\"\n",
      "  .. .. .. ..$ col.grid            : chr \"#808080\"\n",
      "  .. .. .. ..$ col.symbol          : NULL\n",
      "  .. .. .. ..$ fontcolor.title     : chr \"white\"\n",
      "  .. .. .. ..$ collapse            : logi TRUE\n",
      "  .. .. .. ..$ fontcolor           : chr \"black\"\n",
      "  .. .. .. ..$ fontface.title      : num 2\n",
      "  .. .. .. ..$ fontface            : num 1\n",
      "  .. .. .. ..$ fontfamily.title    : chr \"sans\"\n",
      "  .. .. .. ..$ fontfamily          : chr \"sans\"\n",
      "  .. .. .. ..$ fontsize            : num 12\n",
      "  .. .. .. ..$ frame               : logi FALSE\n",
      "  .. .. .. ..$ grid                : logi FALSE\n",
      "  .. .. .. ..$ h                   : num -1\n",
      "  .. .. .. ..$ lty.grid            : chr \"solid\"\n",
      "  .. .. .. ..$ lwd.border.title    : num 1\n",
      "  .. .. .. ..$ lwd.title           : num 1\n",
      "  .. .. .. ..$ lwd.grid            : num 1\n",
      "  .. .. .. ..$ reverseStrand       : logi FALSE\n",
      "  .. .. .. ..$ rotation.title      : num 90\n",
      "  .. .. .. ..$ showAxis            : logi TRUE\n",
      "  .. .. .. ..$ showTitle           : logi TRUE\n",
      "  .. .. .. ..$ v                   : num -1\n",
      "  .. .. .. ..$ lwd.border          : num 1\n",
      "  ..@ name      : chr \"UCSC Genes\"\n",
      "  ..@ imageMap  : NULL\n"
     ]
    }
   ],
   "source": [
    "str(knownGenes)"
   ]
  },
  {
   "cell_type": "code",
   "execution_count": 44,
   "id": "ac93766c",
   "metadata": {},
   "outputs": [
    {
     "data": {
      "text/html": [
       "76"
      ],
      "text/latex": [
       "76"
      ],
      "text/markdown": [
       "76"
      ],
      "text/plain": [
       "[1] 76"
      ]
     },
     "metadata": {},
     "output_type": "display_data"
    }
   ],
   "source": [
    "length(identifier(knownGenes))"
   ]
  },
  {
   "cell_type": "code",
   "execution_count": 40,
   "id": "7ff74b70",
   "metadata": {},
   "outputs": [
    {
     "name": "stdout",
     "output_type": "stream",
     "text": [
      "Formal class 'GeneRegionTrack' [package \"Gviz\"] with 10 slots\n",
      "  ..@ start     : num 75195108\n",
      "  ..@ end       : num 75209506\n",
      "  ..@ stacking  : chr \"squish\"\n",
      "  ..@ stacks    : num(0) \n",
      "  ..@ range     :Formal class 'GRanges' [package \"GenomicRanges\"] with 7 slots\n",
      "  .. .. ..@ seqnames       :Formal class 'Rle' [package \"S4Vectors\"] with 4 slots\n",
      "  .. .. .. .. ..@ values         : Factor w/ 1 level \"chr18\": 1\n",
      "  .. .. .. .. ..@ lengths        : int 4\n",
      "  .. .. .. .. ..@ elementMetadata: NULL\n",
      "  .. .. .. .. ..@ metadata       : list()\n",
      "  .. .. ..@ ranges         :Formal class 'IRanges' [package \"IRanges\"] with 6 slots\n",
      "  .. .. .. .. ..@ start          : int [1:4] 75201415 75201415 75201716 75201877\n",
      "  .. .. .. .. ..@ width          : int [1:4] 7644 766 465 304\n",
      "  .. .. .. .. ..@ NAMES          : NULL\n",
      "  .. .. .. .. ..@ elementType    : chr \"ANY\"\n",
      "  .. .. .. .. ..@ elementMetadata: NULL\n",
      "  .. .. .. .. ..@ metadata       : list()\n",
      "  .. .. ..@ strand         :Formal class 'Rle' [package \"S4Vectors\"] with 4 slots\n",
      "  .. .. .. .. ..@ values         : Factor w/ 3 levels \"+\",\"-\",\"*\": 2\n",
      "  .. .. .. .. ..@ lengths        : int 4\n",
      "  .. .. .. .. ..@ elementMetadata: NULL\n",
      "  .. .. .. .. ..@ metadata       : list()\n",
      "  .. .. ..@ seqinfo        :Formal class 'Seqinfo' [package \"GenomeInfoDb\"] with 4 slots\n",
      "  .. .. .. .. ..@ seqnames   : chr \"chr18\"\n",
      "  .. .. .. .. ..@ seqlengths : int NA\n",
      "  .. .. .. .. ..@ is_circular: logi NA\n",
      "  .. .. .. .. ..@ genome     : chr \"hg38\"\n",
      "  .. .. ..@ elementMetadata:Formal class 'DFrame' [package \"S4Vectors\"] with 6 slots\n",
      "  .. .. .. .. ..@ rownames       : NULL\n",
      "  .. .. .. .. ..@ nrows          : int 4\n",
      "  .. .. .. .. ..@ listData       :List of 7\n",
      "  .. .. .. .. .. ..$ feature   : chr [1:4] \"exon_1\" \"exon_1\" \"exon_1\" \"exon_1\"\n",
      "  .. .. .. .. .. ..$ id        : chr [1:4] \"exon_1\" \"exon_1\" \"exon_1\" \"exon_1\"\n",
      "  .. .. .. .. .. ..$ exon      : chr [1:4] \"exon_1\" \"exon_1\" \"exon_1\" \"exon_1\"\n",
      "  .. .. .. .. .. ..$ transcript: chr [1:4] \"ENST00000322342.4\" \"ENST00000537114.2\" \"ENST00000582437.1\" \"ENST00000581620.1\"\n",
      "  .. .. .. .. .. ..$ gene      : chr [1:4] \"ENST00000322342.4\" \"ENST00000537114.2\" \"ENST00000582437.1\" \"ENST00000581620.1\"\n",
      "  .. .. .. .. .. ..$ symbol    : chr [1:4] \"ENST00000322342.4\" \"ENST00000537114.2\" \"ENST00000582437.1\" \"ENST00000581620.1\"\n",
      "  .. .. .. .. .. ..$ density   : num [1:4] 1 1 1 1\n",
      "  .. .. .. .. ..@ elementType    : chr \"ANY\"\n",
      "  .. .. .. .. ..@ elementMetadata: NULL\n",
      "  .. .. .. .. ..@ metadata       : list()\n",
      "  .. .. ..@ elementType    : chr \"ANY\"\n",
      "  .. .. ..@ metadata       : list()\n",
      "  ..@ chromosome: chr \"chr18\"\n",
      "  ..@ genome    : Named chr \"hg38\"\n",
      "  .. ..- attr(*, \"names\")= chr \"chr18\"\n",
      "  ..@ dp        :Formal class 'DisplayPars' [package \"Gviz\"] with 1 slot\n",
      "  .. .. ..@ pars:List of 74\n",
      "  .. .. .. ..$ arrowHeadWidth      : num 10\n",
      "  .. .. .. ..$ arrowHeadMaxWidth   : num 20\n",
      "  .. .. .. ..$ col                 : chr \"darkgray\"\n",
      "  .. .. .. ..$ collapseTranscripts : logi FALSE\n",
      "  .. .. .. ..$ exonAnnotation      : NULL\n",
      "  .. .. .. ..$ fill                : chr \"#FFD58A\"\n",
      "  .. .. .. ..$ min.distance        : num 0\n",
      "  .. .. .. ..$ shape               : chr [1:2] \"smallArrow\" \"box\"\n",
      "  .. .. .. ..$ showExonId          : NULL\n",
      "  .. .. .. ..$ thinBoxFeature      : chr [1:10] \"utr\" \"ncRNA\" \"utr3\" \"utr5\" ...\n",
      "  .. .. .. ..$ transcriptAnnotation: chr [1:4] \"ZADH2\" \"ZADH2\" \"ZADH2\" \"ZADH2\"\n",
      "  .. .. .. ..$ .__appliedScheme    : chr \"default\"\n",
      "  .. .. .. ..$ cex.group           : num 0.6\n",
      "  .. .. .. ..$ cex                 : num 1\n",
      "  .. .. .. ..$ col.line            : chr \"darkgray\"\n",
      "  .. .. .. ..$ featureAnnotation   : NULL\n",
      "  .. .. .. ..$ fontfamily.group    : chr \"sans\"\n",
      "  .. .. .. ..$ fontcolor.group     : chr \"#808080\"\n",
      "  .. .. .. ..$ fontcolor.item      : chr \"white\"\n",
      "  .. .. .. ..$ fontface.group      : num 2\n",
      "  .. .. .. ..$ fontsize.group      : num 12\n",
      "  .. .. .. ..$ groupAnnotation     : NULL\n",
      "  .. .. .. ..$ just.group          : chr \"left\"\n",
      "  .. .. .. ..$ lex                 : num 1\n",
      "  .. .. .. ..$ lineheight          : num 1\n",
      "  .. .. .. ..$ lty                 : chr \"solid\"\n",
      "  .. .. .. ..$ lwd                 : num 1\n",
      "  .. .. .. ..$ mergeGroups         : logi FALSE\n",
      "  .. .. .. ..$ min.height          : num 3\n",
      "  .. .. .. ..$ min.width           : num 1\n",
      "  .. .. .. ..$ rotation            : num 0\n",
      "  .. .. .. ..$ rotation.group      : num 0\n",
      "  .. .. .. ..$ rotation.item       : num 0\n",
      "  .. .. .. ..$ showFeatureId       : NULL\n",
      "  .. .. .. ..$ showId              : NULL\n",
      "  .. .. .. ..$ showOverplotting    : logi FALSE\n",
      "  .. .. .. ..$ size                : num 1\n",
      "  .. .. .. ..$ stackHeight         : num 0.75\n",
      "  .. .. .. ..$ reverseStacking     : logi FALSE\n",
      "  .. .. .. ..$ alpha               : num 1\n",
      "  .. .. .. ..$ alpha.title         : NULL\n",
      "  .. .. .. ..$ background.panel    : chr \"transparent\"\n",
      "  .. .. .. ..$ background.title    : chr \"lightgray\"\n",
      "  .. .. .. ..$ background.legend   : chr \"transparent\"\n",
      "  .. .. .. ..$ cex.axis            : NULL\n",
      "  .. .. .. ..$ cex.title           : NULL\n",
      "  .. .. .. ..$ col.axis            : chr \"white\"\n",
      "  .. .. .. ..$ col.border.title    : chr \"white\"\n",
      "  .. .. .. ..$ col.frame           : chr \"lightgray\"\n",
      "  .. .. .. ..$ col.grid            : chr \"#808080\"\n",
      "  .. .. .. ..$ col.symbol          : NULL\n",
      "  .. .. .. ..$ fontcolor.title     : chr \"white\"\n",
      "  .. .. .. ..$ collapse            : logi TRUE\n",
      "  .. .. .. ..$ fontcolor           : chr \"black\"\n",
      "  .. .. .. ..$ fontface.title      : num 2\n",
      "  .. .. .. ..$ fontface            : num 1\n",
      "  .. .. .. ..$ fontfamily.title    : chr \"sans\"\n",
      "  .. .. .. ..$ fontfamily          : chr \"sans\"\n",
      "  .. .. .. ..$ fontsize            : num 18\n",
      "  .. .. .. ..$ frame               : logi FALSE\n",
      "  .. .. .. ..$ grid                : logi FALSE\n",
      "  .. .. .. ..$ h                   : num -1\n",
      "  .. .. .. ..$ lty.grid            : chr \"solid\"\n",
      "  .. .. .. ..$ lwd.border.title    : num 1\n",
      "  .. .. .. ..$ lwd.title           : num 1\n",
      "  .. .. .. ..$ lwd.grid            : num 1\n",
      "  .. .. .. ..$ reverseStrand       : logi FALSE\n",
      "  .. .. .. ..$ rotation.title      : num 90\n",
      "  .. .. .. ..$ showAxis            : logi TRUE\n",
      "  .. .. .. ..$ showTitle           : logi TRUE\n",
      "  .. .. .. ..$ v                   : num -1\n",
      "  .. .. .. ..$ lwd.border          : num 1\n",
      "  .. .. .. ..$ color               : chr \"#E18727FF\"\n",
      "  .. .. .. ..$ showID              : logi FALSE\n",
      "  ..@ name      : chr \"UCSC\"\n",
      "  ..@ imageMap  : NULL\n"
     ]
    }
   ],
   "source": [
    "str(tmp)"
   ]
  },
  {
   "cell_type": "code",
   "execution_count": 41,
   "id": "3f56a12e",
   "metadata": {},
   "outputs": [
    {
     "data": {
      "text/html": [
       "<pre class=language-r><code>new(\"standardGeneric\", .Data = function (GdObject, ...) \n",
       "standardGeneric(\"identifier\"), generic = structure(\"identifier\", package = \"Gviz\"), \n",
       "<span style=white-space:pre-wrap>    package = \"Gviz\", group = list(), valueClass = character(0), </span>\n",
       "<span style=white-space:pre-wrap>    signature = \"GdObject\", default = NULL, skeleton = (function (GdObject, </span>\n",
       "<span style=white-space:pre-wrap>        ...) </span>\n",
       "<span style=white-space:pre-wrap>    stop(\"invalid call in method dispatch to 'identifier' (no default method)\", </span>\n",
       "<span style=white-space:pre-wrap>        domain = NA))(GdObject, ...))</span></code></pre>"
      ],
      "text/latex": [
       "\\begin{minted}{r}\n",
       "new(\"standardGeneric\", .Data = function (GdObject, ...) \n",
       "standardGeneric(\"identifier\"), generic = structure(\"identifier\", package = \"Gviz\"), \n",
       "    package = \"Gviz\", group = list(), valueClass = character(0), \n",
       "    signature = \"GdObject\", default = NULL, skeleton = (function (GdObject, \n",
       "        ...) \n",
       "    stop(\"invalid call in method dispatch to 'identifier' (no default method)\", \n",
       "        domain = NA))(GdObject, ...))\n",
       "\\end{minted}"
      ],
      "text/markdown": [
       "```r\n",
       "new(\"standardGeneric\", .Data = function (GdObject, ...) \n",
       "standardGeneric(\"identifier\"), generic = structure(\"identifier\", package = \"Gviz\"), \n",
       "    package = \"Gviz\", group = list(), valueClass = character(0), \n",
       "    signature = \"GdObject\", default = NULL, skeleton = (function (GdObject, \n",
       "        ...) \n",
       "    stop(\"invalid call in method dispatch to 'identifier' (no default method)\", \n",
       "        domain = NA))(GdObject, ...))\n",
       "```"
      ],
      "text/plain": [
       "new(\"standardGeneric\", .Data = function (GdObject, ...) \n",
       "standardGeneric(\"identifier\"), generic = \"identifier\", package = \"Gviz\", \n",
       "    group = list(), valueClass = character(0), signature = \"GdObject\", \n",
       "    default = NULL, skeleton = (function (GdObject, ...) \n",
       "    stop(\"invalid call in method dispatch to 'identifier' (no default method)\", \n",
       "        domain = NA))(GdObject, ...))\n",
       "<bytecode: 0x555c884967e8>\n",
       "<environment: 0x555c86518900>\n",
       "attr(,\"generic\")\n",
       "[1] \"identifier\"\n",
       "attr(,\"generic\")attr(,\"package\")\n",
       "[1] \"Gviz\"\n",
       "attr(,\"package\")\n",
       "[1] \"Gviz\"\n",
       "attr(,\"group\")\n",
       "list()\n",
       "attr(,\"valueClass\")\n",
       "character(0)\n",
       "attr(,\"signature\")\n",
       "[1] \"GdObject\"\n",
       "attr(,\"default\")\n",
       "`\\001NULL\\001`\n",
       "attr(,\"skeleton\")\n",
       "(function (GdObject, ...) \n",
       "stop(\"invalid call in method dispatch to 'identifier' (no default method)\", \n",
       "    domain = NA))(GdObject, ...)\n",
       "attr(,\"class\")\n",
       "[1] \"standardGeneric\"\n",
       "attr(,\"class\")attr(,\"package\")\n",
       "[1] \"methods\""
      ]
     },
     "metadata": {},
     "output_type": "display_data"
    }
   ],
   "source": [
    "identifier"
   ]
  },
  {
   "cell_type": "code",
   "execution_count": 27,
   "id": "19b42036",
   "metadata": {},
   "outputs": [],
   "source": [
    "?identifier"
   ]
  },
  {
   "cell_type": "code",
   "execution_count": 26,
   "id": "f7184196",
   "metadata": {},
   "outputs": [
    {
     "ename": "ERROR",
     "evalue": "Error in (function (classes, fdef, mtable) : unable to find an inherited method for function 'identifier' for signature '\"DataTrack\"'\n",
     "output_type": "error",
     "traceback": [
      "Error in (function (classes, fdef, mtable) : unable to find an inherited method for function 'identifier' for signature '\"DataTrack\"'\nTraceback:\n",
      "1. identifier(diff.track)",
      "2. (function (classes, fdef, mtable) \n . {\n .     methods <- .findInheritedMethods(classes, fdef, mtable)\n .     if (length(methods) == 1L) \n .         return(methods[[1L]])\n .     else if (length(methods) == 0L) {\n .         cnames <- paste0(\"\\\"\", vapply(classes, as.character, \n .             \"\"), \"\\\"\", collapse = \", \")\n .         stop(gettextf(\"unable to find an inherited method for function %s for signature %s\", \n .             sQuote(fdef@generic), sQuote(cnames)), domain = NA)\n .     }\n .     else stop(\"Internal error in finding inherited methods; didn't return a unique method\", \n .         domain = NA)\n . })(list(structure(\"DataTrack\", package = \"Gviz\")), new(\"standardGeneric\", \n .     .Data = function (GdObject, ...) \n .     standardGeneric(\"identifier\"), generic = structure(\"identifier\", package = \"Gviz\"), \n .     package = \"Gviz\", group = list(), valueClass = character(0), \n .     signature = \"GdObject\", default = NULL, skeleton = (function (GdObject, \n .         ...) \n .     stop(\"invalid call in method dispatch to 'identifier' (no default method)\", \n .         domain = NA))(GdObject, ...)), <environment>)",
      "3. stop(gettextf(\"unable to find an inherited method for function %s for signature %s\", \n .     sQuote(fdef@generic), sQuote(cnames)), domain = NA)"
     ]
    }
   ],
   "source": [
    "GenomicRanges::"
   ]
  },
  {
   "cell_type": "markdown",
   "id": "846fef16",
   "metadata": {},
   "source": [
    "# Run Lengths"
   ]
  },
  {
   "cell_type": "code",
   "execution_count": null,
   "id": "50c34204",
   "metadata": {},
   "outputs": [],
   "source": [
    "\n",
    "# Pull mean difference data from trackj\n",
    "mean.diffs <- as.vector(diff.track@data)\n",
    "mean.diffs <- mean.diffs[!is.na(mean.diffs) & mean.diffs != 0]\n",
    "\n",
    "# Run length embedding tells about the runs themselves\n",
    "embedded <- rle(sign(mean.diffs))\n",
    "tmp.df <- data.frame(sign = as.factor(embedded$values), run_length = embedded$lengths * embedded$values)"
   ]
  },
  {
   "cell_type": "code",
   "execution_count": null,
   "id": "570816f4",
   "metadata": {},
   "outputs": [],
   "source": [
    "longest.run <- max(embedded$lengths)\n",
    "median.run <- median(embedded$lengths)\n",
    "\n",
    "LOAD.greater <- sum(mean.diffs > 0)\n",
    "CONT.greater <- sum(mean.diffs < 0)"
   ]
  },
  {
   "cell_type": "markdown",
   "id": "35a97633",
   "metadata": {},
   "source": [
    "What is the probability of this?"
   ]
  },
  {
   "cell_type": "code",
   "execution_count": null,
   "id": "4fb063bb",
   "metadata": {},
   "outputs": [],
   "source": [
    "p <- tmp.df %>%\n",
    "    ggplot(aes(x = run_length)) +\n",
    "    geom_freqpoly() +\n",
    "    xlab(\"Run length\") +\n",
    "    scale_y_log10() +\n",
    "    xlim(c(-1*longest.run, longest.run)) +\n",
    "    wiscR::light_theme() +\n",
    "    geom_vline(xintercept = 0, color = \"red\")\n",
    "\n",
    "p\n",
    "wiscR::save_plot(p, ofile = file.path(idir, \"figs/run-lengths.png\"))"
   ]
  },
  {
   "cell_type": "code",
   "execution_count": null,
   "id": "55463218",
   "metadata": {},
   "outputs": [],
   "source": [
    "random.sample <- sample(c(-1, 1), replace=TRUE, 1e6)"
   ]
  },
  {
   "cell_type": "code",
   "execution_count": null,
   "id": "fd3d2f26",
   "metadata": {},
   "outputs": [],
   "source": [
    "# Run length embedding tells about the runs themselves\n",
    "embedded <- rle(sign(random.sample))\n",
    "tmp.df <- data.frame(sign = as.factor(embedded$values), run_length = embedded$lengths * embedded$values)\n",
    "\n",
    "tmp.df %>%\n",
    "    ggplot(aes(x = run_length)) +\n",
    "    geom_freqpoly() +\n",
    "    xlab(\"Run length\") +\n",
    "    scale_y_log10() +\n",
    "    xlim(c(-1*longest.run, longest.run)) +\n",
    "    wiscR::light_theme() +\n",
    "    geom_vline(xintercept = 0, color = \"red\")"
   ]
  },
  {
   "cell_type": "markdown",
   "id": "ced345ef",
   "metadata": {},
   "source": [
    "Since it's `LOAD - Control`, we've got roughly 850,000 positions where LOAD methylation is greater, and 680,000 positions where Control methylation is greater. Is this percentage consistent across chromosomes?"
   ]
  }
 ],
 "metadata": {
  "interpreter": {
   "hash": "4ea9fc3c3a8df0489cd5c25a6a21fb2fa46d2dcfb175338d3042d921f3774f42"
  },
  "kernelspec": {
   "display_name": "R",
   "language": "R",
   "name": "ir"
  },
  "language_info": {
   "codemirror_mode": "r",
   "file_extension": ".r",
   "mimetype": "text/x-r-source",
   "name": "R",
   "pygments_lexer": "r",
   "version": "4.0.3"
  }
 },
 "nbformat": 4,
 "nbformat_minor": 5
}
