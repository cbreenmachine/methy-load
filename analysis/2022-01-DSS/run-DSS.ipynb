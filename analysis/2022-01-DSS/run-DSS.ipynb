{
 "cells": [
  {
   "cell_type": "code",
   "execution_count": 1,
   "id": "cb39b31b",
   "metadata": {},
   "outputs": [
    {
     "name": "stderr",
     "output_type": "stream",
     "text": [
      "── \u001b[1mAttaching packages\u001b[22m ─────────────────────────────────────────────────────────────────────────────────────────────────────────────────────────────── tidyverse 1.3.1 ──\n",
      "\n",
      "\u001b[32m✔\u001b[39m \u001b[34mggplot2\u001b[39m 3.3.5     \u001b[32m✔\u001b[39m \u001b[34mpurrr  \u001b[39m 0.3.4\n",
      "\u001b[32m✔\u001b[39m \u001b[34mtibble \u001b[39m 3.1.6     \u001b[32m✔\u001b[39m \u001b[34mdplyr  \u001b[39m 1.0.7\n",
      "\u001b[32m✔\u001b[39m \u001b[34mtidyr  \u001b[39m 1.1.4     \u001b[32m✔\u001b[39m \u001b[34mstringr\u001b[39m 1.4.0\n",
      "\u001b[32m✔\u001b[39m \u001b[34mreadr  \u001b[39m 2.1.1     \u001b[32m✔\u001b[39m \u001b[34mforcats\u001b[39m 0.5.1\n",
      "\n",
      "── \u001b[1mConflicts\u001b[22m ────────────────────────────────────────────────────────────────────────────────────────────────────────────────────────────────── tidyverse_conflicts() ──\n",
      "\u001b[31m✖\u001b[39m \u001b[34mdplyr\u001b[39m::\u001b[32mbetween()\u001b[39m   masks \u001b[34mdata.table\u001b[39m::between()\n",
      "\u001b[31m✖\u001b[39m \u001b[34mdplyr\u001b[39m::\u001b[32mfilter()\u001b[39m    masks \u001b[34mstats\u001b[39m::filter()\n",
      "\u001b[31m✖\u001b[39m \u001b[34mdplyr\u001b[39m::\u001b[32mfirst()\u001b[39m     masks \u001b[34mdata.table\u001b[39m::first()\n",
      "\u001b[31m✖\u001b[39m \u001b[34mdplyr\u001b[39m::\u001b[32mlag()\u001b[39m       masks \u001b[34mstats\u001b[39m::lag()\n",
      "\u001b[31m✖\u001b[39m \u001b[34mdplyr\u001b[39m::\u001b[32mlast()\u001b[39m      masks \u001b[34mdata.table\u001b[39m::last()\n",
      "\u001b[31m✖\u001b[39m \u001b[34mpurrr\u001b[39m::\u001b[32mtranspose()\u001b[39m masks \u001b[34mdata.table\u001b[39m::transpose()\n",
      "\n",
      "Loading required package: Biobase\n",
      "\n",
      "Loading required package: BiocGenerics\n",
      "\n",
      "Loading required package: parallel\n",
      "\n",
      "\n",
      "Attaching package: ‘BiocGenerics’\n",
      "\n",
      "\n",
      "The following objects are masked from ‘package:parallel’:\n",
      "\n",
      "    clusterApply, clusterApplyLB, clusterCall, clusterEvalQ,\n",
      "    clusterExport, clusterMap, parApply, parCapply, parLapply,\n",
      "    parLapplyLB, parRapply, parSapply, parSapplyLB\n",
      "\n",
      "\n",
      "The following objects are masked from ‘package:dplyr’:\n",
      "\n",
      "    combine, intersect, setdiff, union\n",
      "\n",
      "\n",
      "The following objects are masked from ‘package:stats’:\n",
      "\n",
      "    IQR, mad, sd, var, xtabs\n",
      "\n",
      "\n",
      "The following objects are masked from ‘package:base’:\n",
      "\n",
      "    anyDuplicated, append, as.data.frame, basename, cbind, colnames,\n",
      "    dirname, do.call, duplicated, eval, evalq, Filter, Find, get, grep,\n",
      "    grepl, intersect, is.unsorted, lapply, Map, mapply, match, mget,\n",
      "    order, paste, pmax, pmax.int, pmin, pmin.int, Position, rank,\n",
      "    rbind, Reduce, rownames, sapply, setdiff, sort, table, tapply,\n",
      "    union, unique, unsplit, which.max, which.min\n",
      "\n",
      "\n",
      "Welcome to Bioconductor\n",
      "\n",
      "    Vignettes contain introductory material; view with\n",
      "    'browseVignettes()'. To cite Bioconductor, see\n",
      "    'citation(\"Biobase\")', and for packages 'citation(\"pkgname\")'.\n",
      "\n",
      "\n",
      "Loading required package: BiocParallel\n",
      "\n",
      "Loading required package: bsseq\n",
      "\n",
      "Loading required package: GenomicRanges\n",
      "\n",
      "Loading required package: stats4\n",
      "\n",
      "Loading required package: S4Vectors\n",
      "\n",
      "\n",
      "Attaching package: ‘S4Vectors’\n",
      "\n",
      "\n",
      "The following objects are masked from ‘package:dplyr’:\n",
      "\n",
      "    first, rename\n",
      "\n",
      "\n",
      "The following object is masked from ‘package:tidyr’:\n",
      "\n",
      "    expand\n",
      "\n",
      "\n",
      "The following objects are masked from ‘package:data.table’:\n",
      "\n",
      "    first, second\n",
      "\n",
      "\n",
      "The following object is masked from ‘package:base’:\n",
      "\n",
      "    expand.grid\n",
      "\n",
      "\n",
      "Loading required package: IRanges\n",
      "\n",
      "\n",
      "Attaching package: ‘IRanges’\n",
      "\n",
      "\n",
      "The following objects are masked from ‘package:dplyr’:\n",
      "\n",
      "    collapse, desc, slice\n",
      "\n",
      "\n",
      "The following object is masked from ‘package:purrr’:\n",
      "\n",
      "    reduce\n",
      "\n",
      "\n",
      "The following object is masked from ‘package:data.table’:\n",
      "\n",
      "    shift\n",
      "\n",
      "\n",
      "Loading required package: GenomeInfoDb\n",
      "\n",
      "Loading required package: SummarizedExperiment\n",
      "\n",
      "Loading required package: MatrixGenerics\n",
      "\n",
      "Loading required package: matrixStats\n",
      "\n",
      "\n",
      "Attaching package: ‘matrixStats’\n",
      "\n",
      "\n",
      "The following objects are masked from ‘package:Biobase’:\n",
      "\n",
      "    anyMissing, rowMedians\n",
      "\n",
      "\n",
      "The following object is masked from ‘package:dplyr’:\n",
      "\n",
      "    count\n",
      "\n",
      "\n",
      "\n",
      "Attaching package: ‘MatrixGenerics’\n",
      "\n",
      "\n",
      "The following objects are masked from ‘package:matrixStats’:\n",
      "\n",
      "    colAlls, colAnyNAs, colAnys, colAvgsPerRowSet, colCollapse,\n",
      "    colCounts, colCummaxs, colCummins, colCumprods, colCumsums,\n",
      "    colDiffs, colIQRDiffs, colIQRs, colLogSumExps, colMadDiffs,\n",
      "    colMads, colMaxs, colMeans2, colMedians, colMins, colOrderStats,\n",
      "    colProds, colQuantiles, colRanges, colRanks, colSdDiffs, colSds,\n",
      "    colSums2, colTabulates, colVarDiffs, colVars, colWeightedMads,\n",
      "    colWeightedMeans, colWeightedMedians, colWeightedSds,\n",
      "    colWeightedVars, rowAlls, rowAnyNAs, rowAnys, rowAvgsPerColSet,\n",
      "    rowCollapse, rowCounts, rowCummaxs, rowCummins, rowCumprods,\n",
      "    rowCumsums, rowDiffs, rowIQRDiffs, rowIQRs, rowLogSumExps,\n",
      "    rowMadDiffs, rowMads, rowMaxs, rowMeans2, rowMedians, rowMins,\n",
      "    rowOrderStats, rowProds, rowQuantiles, rowRanges, rowRanks,\n",
      "    rowSdDiffs, rowSds, rowSums2, rowTabulates, rowVarDiffs, rowVars,\n",
      "    rowWeightedMads, rowWeightedMeans, rowWeightedMedians,\n",
      "    rowWeightedSds, rowWeightedVars\n",
      "\n",
      "\n",
      "The following object is masked from ‘package:Biobase’:\n",
      "\n",
      "    rowMedians\n",
      "\n",
      "\n"
     ]
    }
   ],
   "source": [
    "# run-DSS.R\n",
    "# Runs Dispersion Shrinkage Estimation method on methylation data (one chromosome at a time)\n",
    "library(data.table)\n",
    "library(tidyverse)\n",
    "library(argparse)\n",
    "library(DSS)"
   ]
  },
  {
   "cell_type": "markdown",
   "id": "39824eae",
   "metadata": {},
   "source": [
    "Filter first!!!"
   ]
  },
  {
   "cell_type": "code",
   "execution_count": 2,
   "id": "81d18637",
   "metadata": {},
   "outputs": [],
   "source": [
    "parser <- ArgumentParser()\n",
    "parser$add_argument(\"--chr\", default= \"chr22\", help='Chromosome to run DSS on')\n",
    "parser$add_argument(\"--covariates\", default= \"NK,CD4T\")\n",
    "parser$add_argument(\"--num_pcs\", default= \"2\", help = 'number of principal components (precomputed)')\n",
    "args <- parser$parse_known_args()\n",
    "\n",
    "# Setup output directory, will save called regions, figures?\n",
    "odir <- paste0(\"result-\", args[[1]]$chr)\n",
    "dir.create(odir, showWarning = FALSE)"
   ]
  },
  {
   "cell_type": "code",
   "execution_count": 3,
   "id": "bbb8c210",
   "metadata": {},
   "outputs": [
    {
     "name": "stderr",
     "output_type": "stream",
     "text": [
      "\n",
      "\u001b[36m──\u001b[39m \u001b[1mColumn specification\u001b[22m \u001b[36m────────────────────────────────────────────────────────────────────────────────────────────────────────────────────────────────────────────────\u001b[39m\n",
      "cols(\n",
      "  PC1 = \u001b[32mcol_double()\u001b[39m,\n",
      "  PC2 = \u001b[32mcol_double()\u001b[39m,\n",
      "  PC3 = \u001b[32mcol_double()\u001b[39m,\n",
      "  PC4 = \u001b[32mcol_double()\u001b[39m,\n",
      "  PC5 = \u001b[32mcol_double()\u001b[39m,\n",
      "  PC6 = \u001b[32mcol_double()\u001b[39m,\n",
      "  PC7 = \u001b[32mcol_double()\u001b[39m,\n",
      "  PC8 = \u001b[32mcol_double()\u001b[39m,\n",
      "  PC9 = \u001b[32mcol_double()\u001b[39m,\n",
      "  PC10 = \u001b[32mcol_double()\u001b[39m,\n",
      "  sample = \u001b[32mcol_double()\u001b[39m,\n",
      "  num_null = \u001b[32mcol_double()\u001b[39m,\n",
      "  num_not_null = \u001b[32mcol_double()\u001b[39m,\n",
      "  mean_methylation = \u001b[32mcol_double()\u001b[39m,\n",
      "  mean_coverage = \u001b[32mcol_double()\u001b[39m,\n",
      "  median_coverage = \u001b[32mcol_double()\u001b[39m\n",
      ")\n",
      "\n",
      "\n"
     ]
    }
   ],
   "source": [
    "pc.df <- read_table( file.path(\"../../data/prin_comps/\", paste0(\"PC_\", args[[1]]$chr , \".tsv\")) )"
   ]
  },
  {
   "cell_type": "code",
   "execution_count": 4,
   "id": "68901d16",
   "metadata": {},
   "outputs": [
    {
     "name": "stderr",
     "output_type": "stream",
     "text": [
      "\u001b[1mRows: \u001b[22m\u001b[34m83\u001b[39m \u001b[1mColumns: \u001b[22m\u001b[34m18\u001b[39m\n",
      "\n",
      "\u001b[36m──\u001b[39m \u001b[1mColumn specification\u001b[22m \u001b[36m────────────────────────────────────────────────────────────────────────────────────────────────────────────────────────────────────────────────\u001b[39m\n",
      "\u001b[1mDelimiter:\u001b[22m \",\"\n",
      "\u001b[31mchr\u001b[39m  (6): cohort, machine, pool, group, batch, sex\n",
      "\u001b[32mdbl\u001b[39m (12): sample, CD8T, CD4T, NK, Bcell, Mono, Gran, charlson_score, bmi, wa...\n",
      "\n",
      "\n",
      "\u001b[36mℹ\u001b[39m Use \u001b[30m\u001b[47m\u001b[30m\u001b[47m`spec()`\u001b[47m\u001b[30m\u001b[49m\u001b[39m to retrieve the full column specification for this data.\n",
      "\u001b[36mℹ\u001b[39m Specify the column types or set \u001b[30m\u001b[47m\u001b[30m\u001b[47m`show_col_types = FALSE`\u001b[47m\u001b[30m\u001b[49m\u001b[39m to quiet this message.\n",
      "\n"
     ]
    }
   ],
   "source": [
    "\n",
    "ss.df <- read_csv(\"../../data/meta/phenos-cleaned.csv\")\n",
    "DT <- fread(file.path(\"../../data/cov-meth/\", paste0(args[[1]]$chr, \".tsv\")))"
   ]
  },
  {
   "cell_type": "code",
   "execution_count": 5,
   "id": "0e2d161e",
   "metadata": {},
   "outputs": [],
   "source": [
    "M <- dcast(DT, pos~sample, value.var=\"methylated\")\n",
    "Cov <- dcast(DT, pos~sample, value.var=\"coverage\")"
   ]
  },
  {
   "cell_type": "code",
   "execution_count": 6,
   "id": "e0f2e44b",
   "metadata": {},
   "outputs": [],
   "source": [
    "valid_samples <- intersect(intersect(colnames(M), ss.df$sample), pc.df$sample)\n",
    "\n",
    "filt.df <- ss.df %>%\n",
    "            inner_join(pc.df, by = \"sample\") %>% \n",
    "            dplyr::filter(sample %in% valid_samples) \n",
    "\n",
    "# pack years smoking needs to be not na\n",
    "filt.df$pack_years[is.na(filt.df$pack_years)] <- 0\n",
    "\n",
    "drop_cols <- as.character(setdiff(colnames(M), valid_samples))[-1] # dont remove pos\n",
    "M[, (drop_cols):=NULL]\n",
    "Cov[, (drop_cols):=NULL]\n",
    "\n"
   ]
  },
  {
   "cell_type": "code",
   "execution_count": 7,
   "id": "bd85631f",
   "metadata": {},
   "outputs": [
    {
     "data": {
      "text/html": [
       "61"
      ],
      "text/latex": [
       "61"
      ],
      "text/markdown": [
       "61"
      ],
      "text/plain": [
       "[1] 61"
      ]
     },
     "metadata": {},
     "output_type": "display_data"
    }
   ],
   "source": [
    "length(valid_samples)"
   ]
  },
  {
   "cell_type": "code",
   "execution_count": 8,
   "id": "e49dabcc",
   "metadata": {},
   "outputs": [
    {
     "data": {
      "text/html": [
       "<style>\n",
       ".list-inline {list-style: none; margin:0; padding: 0}\n",
       ".list-inline>li {display: inline-block}\n",
       ".list-inline>li:not(:last-child)::after {content: \"\\00b7\"; padding: 0 .5ex}\n",
       "</style>\n",
       "<ol class=list-inline><li>1</li><li>2</li><li>3</li></ol>\n"
      ],
      "text/latex": [
       "\\begin{enumerate*}\n",
       "\\item 1\n",
       "\\item 2\n",
       "\\item 3\n",
       "\\end{enumerate*}\n"
      ],
      "text/markdown": [
       "1. 1\n",
       "2. 2\n",
       "3. 3\n",
       "\n",
       "\n"
      ],
      "text/plain": [
       "[1] 1 2 3"
      ]
     },
     "metadata": {},
     "output_type": "display_data"
    }
   ],
   "source": [
    "a <- c(1,2,3, NULL)\n",
    "a"
   ]
  },
  {
   "cell_type": "code",
   "execution_count": 9,
   "id": "36f111ba",
   "metadata": {},
   "outputs": [],
   "source": [
    "\n",
    "threshold <- 0\n",
    "drop.ix <- ( rowSums(is.na(M)) > threshold)\n",
    "#M <- M[!drop.ix, ]\n",
    "#Cov <- Cov[!drop.ix, ]\n",
    "#table(drop.ix)\n",
    "M[is.na(M)] <- 0\n",
    "Cov[is.na(Cov)] <- 0"
   ]
  },
  {
   "cell_type": "code",
   "execution_count": 10,
   "id": "962dd5b0",
   "metadata": {},
   "outputs": [],
   "source": [
    "# Order needs to be correct!!!\n",
    "M <- M[ , c(\"pos\", filt.df$sample), with = FALSE]\n",
    "Cov <- Cov[ , c(\"pos\", filt.df$sample), with = FALSE]"
   ]
  },
  {
   "cell_type": "code",
   "execution_count": 11,
   "id": "b35e5be2",
   "metadata": {},
   "outputs": [],
   "source": [
    "# create bs seq object, needs chromosome identiifer, methylated reads, and unmethylated reads\n",
    "bs <- BSseq(chr = rep(DT$chr[1], nrow(M)), pos = M$pos,\n",
    "            M = as.matrix(M[ , -c(\"pos\"), with=FALSE]), \n",
    "            Cov = as.matrix(Cov[, -c(\"pos\"), with=FALSE]), \n",
    "            sampleNames = names(M)[-1])\n"
   ]
  },
  {
   "cell_type": "code",
   "execution_count": 12,
   "id": "037e4a7e",
   "metadata": {},
   "outputs": [
    {
     "data": {
      "text/html": [
       "TRUE"
      ],
      "text/latex": [
       "TRUE"
      ],
      "text/markdown": [
       "TRUE"
      ],
      "text/plain": [
       "[1] TRUE"
      ]
     },
     "metadata": {},
     "output_type": "display_data"
    }
   ],
   "source": [
    "# Print this check in the future!!!!\n",
    "all( filt.df$sample == colnames(bs) )"
   ]
  },
  {
   "cell_type": "code",
   "execution_count": 13,
   "id": "b1c34c3f",
   "metadata": {},
   "outputs": [
    {
     "data": {
      "text/html": [
       "<style>\n",
       ".list-inline {list-style: none; margin:0; padding: 0}\n",
       ".list-inline>li {display: inline-block}\n",
       ".list-inline>li:not(:last-child)::after {content: \"\\00b7\"; padding: 0 .5ex}\n",
       "</style>\n",
       "<ol class=list-inline><li>'sample'</li><li>'cohort'</li><li>'machine'</li><li>'pool'</li><li>'group'</li><li>'batch'</li><li>'CD8T'</li><li>'CD4T'</li><li>'NK'</li><li>'Bcell'</li><li>'Mono'</li><li>'Gran'</li><li>'charlson_score'</li><li>'bmi'</li><li>'waist_circumf'</li><li>'age'</li><li>'sex'</li><li>'pack_years'</li><li>'PC1'</li><li>'PC2'</li><li>'PC3'</li><li>'PC4'</li><li>'PC5'</li><li>'PC6'</li><li>'PC7'</li><li>'PC8'</li><li>'PC9'</li><li>'PC10'</li><li>'num_null'</li><li>'num_not_null'</li><li>'mean_methylation'</li><li>'mean_coverage'</li><li>'median_coverage'</li></ol>\n"
      ],
      "text/latex": [
       "\\begin{enumerate*}\n",
       "\\item 'sample'\n",
       "\\item 'cohort'\n",
       "\\item 'machine'\n",
       "\\item 'pool'\n",
       "\\item 'group'\n",
       "\\item 'batch'\n",
       "\\item 'CD8T'\n",
       "\\item 'CD4T'\n",
       "\\item 'NK'\n",
       "\\item 'Bcell'\n",
       "\\item 'Mono'\n",
       "\\item 'Gran'\n",
       "\\item 'charlson\\_score'\n",
       "\\item 'bmi'\n",
       "\\item 'waist\\_circumf'\n",
       "\\item 'age'\n",
       "\\item 'sex'\n",
       "\\item 'pack\\_years'\n",
       "\\item 'PC1'\n",
       "\\item 'PC2'\n",
       "\\item 'PC3'\n",
       "\\item 'PC4'\n",
       "\\item 'PC5'\n",
       "\\item 'PC6'\n",
       "\\item 'PC7'\n",
       "\\item 'PC8'\n",
       "\\item 'PC9'\n",
       "\\item 'PC10'\n",
       "\\item 'num\\_null'\n",
       "\\item 'num\\_not\\_null'\n",
       "\\item 'mean\\_methylation'\n",
       "\\item 'mean\\_coverage'\n",
       "\\item 'median\\_coverage'\n",
       "\\end{enumerate*}\n"
      ],
      "text/markdown": [
       "1. 'sample'\n",
       "2. 'cohort'\n",
       "3. 'machine'\n",
       "4. 'pool'\n",
       "5. 'group'\n",
       "6. 'batch'\n",
       "7. 'CD8T'\n",
       "8. 'CD4T'\n",
       "9. 'NK'\n",
       "10. 'Bcell'\n",
       "11. 'Mono'\n",
       "12. 'Gran'\n",
       "13. 'charlson_score'\n",
       "14. 'bmi'\n",
       "15. 'waist_circumf'\n",
       "16. 'age'\n",
       "17. 'sex'\n",
       "18. 'pack_years'\n",
       "19. 'PC1'\n",
       "20. 'PC2'\n",
       "21. 'PC3'\n",
       "22. 'PC4'\n",
       "23. 'PC5'\n",
       "24. 'PC6'\n",
       "25. 'PC7'\n",
       "26. 'PC8'\n",
       "27. 'PC9'\n",
       "28. 'PC10'\n",
       "29. 'num_null'\n",
       "30. 'num_not_null'\n",
       "31. 'mean_methylation'\n",
       "32. 'mean_coverage'\n",
       "33. 'median_coverage'\n",
       "\n",
       "\n"
      ],
      "text/plain": [
       " [1] \"sample\"           \"cohort\"           \"machine\"          \"pool\"            \n",
       " [5] \"group\"            \"batch\"            \"CD8T\"             \"CD4T\"            \n",
       " [9] \"NK\"               \"Bcell\"            \"Mono\"             \"Gran\"            \n",
       "[13] \"charlson_score\"   \"bmi\"              \"waist_circumf\"    \"age\"             \n",
       "[17] \"sex\"              \"pack_years\"       \"PC1\"              \"PC2\"             \n",
       "[21] \"PC3\"              \"PC4\"              \"PC5\"              \"PC6\"             \n",
       "[25] \"PC7\"              \"PC8\"              \"PC9\"              \"PC10\"            \n",
       "[29] \"num_null\"         \"num_not_null\"     \"mean_methylation\" \"mean_coverage\"   \n",
       "[33] \"median_coverage\" "
      ]
     },
     "metadata": {},
     "output_type": "display_data"
    }
   ],
   "source": [
    "names(filt.df)"
   ]
  },
  {
   "cell_type": "code",
   "execution_count": 14,
   "id": "328aeed9",
   "metadata": {},
   "outputs": [
    {
     "name": "stdout",
     "output_type": "stream",
     "text": [
      "Fitting DML model for CpG site: 100000 , 200000 , 300000 , 400000 , 500000 , 600000 , 700000 , 800000 , 900000 , 1000000 , 1100000 , 1200000 , 1300000 , 1400000 , 1500000 , 1600000 , "
     ]
    }
   ],
   "source": [
    "#TODO: formula from input flags\n",
    "dml.fit <- DMLfit.multiFactor(bs, design = filt.df, smoothing = TRUE, smoothing.span = 100, \n",
    "        formula = ~cohort + machine + CD8T + CD4T + NK + Bcell + Mono + bmi + age + sex)"
   ]
  },
  {
   "cell_type": "code",
   "execution_count": 15,
   "id": "e3c769df",
   "metadata": {},
   "outputs": [
    {
     "data": {
      "text/html": [
       "<style>\n",
       ".list-inline {list-style: none; margin:0; padding: 0}\n",
       ".list-inline>li {display: inline-block}\n",
       ".list-inline>li:not(:last-child)::after {content: \"\\00b7\"; padding: 0 .5ex}\n",
       "</style>\n",
       "<ol class=list-inline><li>'(Intercept)'</li><li>'cohortCONTROL'</li><li>'machineNovaseq2'</li><li>'CD8T'</li><li>'CD4T'</li><li>'NK'</li><li>'Bcell'</li><li>'Mono'</li><li>'bmi'</li><li>'age'</li><li>'sexM'</li></ol>\n"
      ],
      "text/latex": [
       "\\begin{enumerate*}\n",
       "\\item '(Intercept)'\n",
       "\\item 'cohortCONTROL'\n",
       "\\item 'machineNovaseq2'\n",
       "\\item 'CD8T'\n",
       "\\item 'CD4T'\n",
       "\\item 'NK'\n",
       "\\item 'Bcell'\n",
       "\\item 'Mono'\n",
       "\\item 'bmi'\n",
       "\\item 'age'\n",
       "\\item 'sexM'\n",
       "\\end{enumerate*}\n"
      ],
      "text/markdown": [
       "1. '(Intercept)'\n",
       "2. 'cohortCONTROL'\n",
       "3. 'machineNovaseq2'\n",
       "4. 'CD8T'\n",
       "5. 'CD4T'\n",
       "6. 'NK'\n",
       "7. 'Bcell'\n",
       "8. 'Mono'\n",
       "9. 'bmi'\n",
       "10. 'age'\n",
       "11. 'sexM'\n",
       "\n",
       "\n"
      ],
      "text/plain": [
       " [1] \"(Intercept)\"     \"cohortCONTROL\"   \"machineNovaseq2\" \"CD8T\"           \n",
       " [5] \"CD4T\"            \"NK\"              \"Bcell\"           \"Mono\"           \n",
       " [9] \"bmi\"             \"age\"             \"sexM\"           "
      ]
     },
     "metadata": {},
     "output_type": "display_data"
    }
   ],
   "source": [
    "colnames(dml.fit$X)\n",
    "test.cohort <- DMLtest.multiFactor(dml.fit, coef = 2)"
   ]
  },
  {
   "cell_type": "code",
   "execution_count": 16,
   "id": "6956dd53",
   "metadata": {},
   "outputs": [
    {
     "data": {
      "text/plain": [
       "\n",
       "  FALSE    TRUE \n",
       "1486006  125237 "
      ]
     },
     "metadata": {},
     "output_type": "display_data"
    }
   ],
   "source": [
    "table(is.na(test.cohort$stat))"
   ]
  },
  {
   "cell_type": "code",
   "execution_count": 17,
   "id": "35cba94a",
   "metadata": {},
   "outputs": [],
   "source": [
    "methylation <- M / Cov\n",
    "methylation$pos <- M$pos\n",
    "fwrite(methylation, file.path(odir, \"methylation.csv\"))"
   ]
  },
  {
   "cell_type": "code",
   "execution_count": 18,
   "id": "42a503ea",
   "metadata": {},
   "outputs": [],
   "source": [
    "save(list = c(\"test.cohort\"), file= file.path(odir, \"test-values.RData\"))\n",
    "fwrite(M, file.path(odir, \"M.csv\"))\n",
    "fwrite(Cov, file.path(odir, \"Cov.csv\"))\n"
   ]
  },
  {
   "cell_type": "code",
   "execution_count": 19,
   "id": "f297d93a",
   "metadata": {},
   "outputs": [],
   "source": [
    "dmrs <- callDMR(test.cohort, p.threshold=0.01, minCG = 5 )"
   ]
  },
  {
   "cell_type": "code",
   "execution_count": 20,
   "id": "8d1e2bb9",
   "metadata": {},
   "outputs": [
    {
     "data": {
      "text/html": [
       "<table class=\"dataframe\">\n",
       "<caption>A data.frame: 22 × 6</caption>\n",
       "<thead>\n",
       "\t<tr><th></th><th scope=col>chr</th><th scope=col>start</th><th scope=col>end</th><th scope=col>length</th><th scope=col>nCG</th><th scope=col>areaStat</th></tr>\n",
       "\t<tr><th></th><th scope=col>&lt;chr&gt;</th><th scope=col>&lt;dbl&gt;</th><th scope=col>&lt;dbl&gt;</th><th scope=col>&lt;dbl&gt;</th><th scope=col>&lt;dbl&gt;</th><th scope=col>&lt;dbl&gt;</th></tr>\n",
       "</thead>\n",
       "<tbody>\n",
       "\t<tr><th scope=row>649</th><td>chr6</td><td> 10659742</td><td> 10660199</td><td>458</td><td>38</td><td>-117.62179</td></tr>\n",
       "\t<tr><th scope=row>7287</th><td>chr6</td><td>149450767</td><td>149450862</td><td> 96</td><td>20</td><td>  56.93582</td></tr>\n",
       "\t<tr><th scope=row>555</th><td>chr6</td><td>  9024345</td><td>  9024516</td><td>172</td><td>17</td><td>  47.34443</td></tr>\n",
       "\t<tr><th scope=row>1630</th><td>chr6</td><td> 28802606</td><td> 28802846</td><td>241</td><td> 8</td><td>  27.85109</td></tr>\n",
       "\t<tr><th scope=row>8226</th><td>chr6</td><td>166005956</td><td>166006031</td><td> 76</td><td> 9</td><td> -26.15201</td></tr>\n",
       "\t<tr><th scope=row>6709</th><td>chr6</td><td>137342911</td><td>137343152</td><td>242</td><td> 8</td><td> -25.42136</td></tr>\n",
       "\t<tr><th scope=row>2271</th><td>chr6</td><td> 38796656</td><td> 38796813</td><td>158</td><td> 8</td><td>  24.93634</td></tr>\n",
       "\t<tr><th scope=row>8354</th><td>chr6</td><td>168216790</td><td>168216914</td><td>125</td><td> 9</td><td>  24.50036</td></tr>\n",
       "\t<tr><th scope=row>8449</th><td>chr6</td><td>169425536</td><td>169425634</td><td> 99</td><td> 8</td><td> -23.07389</td></tr>\n",
       "\t<tr><th scope=row>2095</th><td>chr6</td><td> 35562231</td><td> 35562449</td><td>219</td><td> 8</td><td>  22.07177</td></tr>\n",
       "\t<tr><th scope=row>106</th><td>chr6</td><td>  1524297</td><td>  1524406</td><td>110</td><td> 8</td><td> -21.58183</td></tr>\n",
       "\t<tr><th scope=row>2301</th><td>chr6</td><td> 39228295</td><td> 39228367</td><td> 73</td><td> 7</td><td> -20.93121</td></tr>\n",
       "\t<tr><th scope=row>3823</th><td>chr6</td><td> 73354681</td><td> 73354747</td><td> 67</td><td> 8</td><td> -20.57964</td></tr>\n",
       "\t<tr><th scope=row>3403</th><td>chr6</td><td> 63332632</td><td> 63332718</td><td> 87</td><td> 7</td><td> -20.03170</td></tr>\n",
       "\t<tr><th scope=row>647</th><td>chr6</td><td> 10659348</td><td> 10659409</td><td> 62</td><td> 7</td><td> -19.78773</td></tr>\n",
       "\t<tr><th scope=row>7864</th><td>chr6</td><td>160064487</td><td>160064557</td><td> 71</td><td> 7</td><td> -19.65530</td></tr>\n",
       "\t<tr><th scope=row>8282</th><td>chr6</td><td>166979794</td><td>166979953</td><td>160</td><td> 6</td><td> -18.94407</td></tr>\n",
       "\t<tr><th scope=row>5327</th><td>chr6</td><td>107460387</td><td>107460511</td><td>125</td><td> 7</td><td> -18.93360</td></tr>\n",
       "\t<tr><th scope=row>2107</th><td>chr6</td><td> 35764977</td><td> 35765062</td><td> 86</td><td> 6</td><td> -18.88006</td></tr>\n",
       "\t<tr><th scope=row>6154</th><td>chr6</td><td>125154965</td><td>125155030</td><td> 66</td><td> 6</td><td>  17.56113</td></tr>\n",
       "\t<tr><th scope=row>3826</th><td>chr6</td><td> 73362735</td><td> 73362801</td><td> 67</td><td> 6</td><td> -17.28292</td></tr>\n",
       "\t<tr><th scope=row>8120</th><td>chr6</td><td>164040207</td><td>164040293</td><td> 87</td><td> 6</td><td>  16.38078</td></tr>\n",
       "</tbody>\n",
       "</table>\n"
      ],
      "text/latex": [
       "A data.frame: 22 × 6\n",
       "\\begin{tabular}{r|llllll}\n",
       "  & chr & start & end & length & nCG & areaStat\\\\\n",
       "  & <chr> & <dbl> & <dbl> & <dbl> & <dbl> & <dbl>\\\\\n",
       "\\hline\n",
       "\t649 & chr6 &  10659742 &  10660199 & 458 & 38 & -117.62179\\\\\n",
       "\t7287 & chr6 & 149450767 & 149450862 &  96 & 20 &   56.93582\\\\\n",
       "\t555 & chr6 &   9024345 &   9024516 & 172 & 17 &   47.34443\\\\\n",
       "\t1630 & chr6 &  28802606 &  28802846 & 241 &  8 &   27.85109\\\\\n",
       "\t8226 & chr6 & 166005956 & 166006031 &  76 &  9 &  -26.15201\\\\\n",
       "\t6709 & chr6 & 137342911 & 137343152 & 242 &  8 &  -25.42136\\\\\n",
       "\t2271 & chr6 &  38796656 &  38796813 & 158 &  8 &   24.93634\\\\\n",
       "\t8354 & chr6 & 168216790 & 168216914 & 125 &  9 &   24.50036\\\\\n",
       "\t8449 & chr6 & 169425536 & 169425634 &  99 &  8 &  -23.07389\\\\\n",
       "\t2095 & chr6 &  35562231 &  35562449 & 219 &  8 &   22.07177\\\\\n",
       "\t106 & chr6 &   1524297 &   1524406 & 110 &  8 &  -21.58183\\\\\n",
       "\t2301 & chr6 &  39228295 &  39228367 &  73 &  7 &  -20.93121\\\\\n",
       "\t3823 & chr6 &  73354681 &  73354747 &  67 &  8 &  -20.57964\\\\\n",
       "\t3403 & chr6 &  63332632 &  63332718 &  87 &  7 &  -20.03170\\\\\n",
       "\t647 & chr6 &  10659348 &  10659409 &  62 &  7 &  -19.78773\\\\\n",
       "\t7864 & chr6 & 160064487 & 160064557 &  71 &  7 &  -19.65530\\\\\n",
       "\t8282 & chr6 & 166979794 & 166979953 & 160 &  6 &  -18.94407\\\\\n",
       "\t5327 & chr6 & 107460387 & 107460511 & 125 &  7 &  -18.93360\\\\\n",
       "\t2107 & chr6 &  35764977 &  35765062 &  86 &  6 &  -18.88006\\\\\n",
       "\t6154 & chr6 & 125154965 & 125155030 &  66 &  6 &   17.56113\\\\\n",
       "\t3826 & chr6 &  73362735 &  73362801 &  67 &  6 &  -17.28292\\\\\n",
       "\t8120 & chr6 & 164040207 & 164040293 &  87 &  6 &   16.38078\\\\\n",
       "\\end{tabular}\n"
      ],
      "text/markdown": [
       "\n",
       "A data.frame: 22 × 6\n",
       "\n",
       "| <!--/--> | chr &lt;chr&gt; | start &lt;dbl&gt; | end &lt;dbl&gt; | length &lt;dbl&gt; | nCG &lt;dbl&gt; | areaStat &lt;dbl&gt; |\n",
       "|---|---|---|---|---|---|---|\n",
       "| 649 | chr6 |  10659742 |  10660199 | 458 | 38 | -117.62179 |\n",
       "| 7287 | chr6 | 149450767 | 149450862 |  96 | 20 |   56.93582 |\n",
       "| 555 | chr6 |   9024345 |   9024516 | 172 | 17 |   47.34443 |\n",
       "| 1630 | chr6 |  28802606 |  28802846 | 241 |  8 |   27.85109 |\n",
       "| 8226 | chr6 | 166005956 | 166006031 |  76 |  9 |  -26.15201 |\n",
       "| 6709 | chr6 | 137342911 | 137343152 | 242 |  8 |  -25.42136 |\n",
       "| 2271 | chr6 |  38796656 |  38796813 | 158 |  8 |   24.93634 |\n",
       "| 8354 | chr6 | 168216790 | 168216914 | 125 |  9 |   24.50036 |\n",
       "| 8449 | chr6 | 169425536 | 169425634 |  99 |  8 |  -23.07389 |\n",
       "| 2095 | chr6 |  35562231 |  35562449 | 219 |  8 |   22.07177 |\n",
       "| 106 | chr6 |   1524297 |   1524406 | 110 |  8 |  -21.58183 |\n",
       "| 2301 | chr6 |  39228295 |  39228367 |  73 |  7 |  -20.93121 |\n",
       "| 3823 | chr6 |  73354681 |  73354747 |  67 |  8 |  -20.57964 |\n",
       "| 3403 | chr6 |  63332632 |  63332718 |  87 |  7 |  -20.03170 |\n",
       "| 647 | chr6 |  10659348 |  10659409 |  62 |  7 |  -19.78773 |\n",
       "| 7864 | chr6 | 160064487 | 160064557 |  71 |  7 |  -19.65530 |\n",
       "| 8282 | chr6 | 166979794 | 166979953 | 160 |  6 |  -18.94407 |\n",
       "| 5327 | chr6 | 107460387 | 107460511 | 125 |  7 |  -18.93360 |\n",
       "| 2107 | chr6 |  35764977 |  35765062 |  86 |  6 |  -18.88006 |\n",
       "| 6154 | chr6 | 125154965 | 125155030 |  66 |  6 |   17.56113 |\n",
       "| 3826 | chr6 |  73362735 |  73362801 |  67 |  6 |  -17.28292 |\n",
       "| 8120 | chr6 | 164040207 | 164040293 |  87 |  6 |   16.38078 |\n",
       "\n"
      ],
      "text/plain": [
       "     chr  start     end       length nCG areaStat  \n",
       "649  chr6  10659742  10660199 458    38  -117.62179\n",
       "7287 chr6 149450767 149450862  96    20    56.93582\n",
       "555  chr6   9024345   9024516 172    17    47.34443\n",
       "1630 chr6  28802606  28802846 241     8    27.85109\n",
       "8226 chr6 166005956 166006031  76     9   -26.15201\n",
       "6709 chr6 137342911 137343152 242     8   -25.42136\n",
       "2271 chr6  38796656  38796813 158     8    24.93634\n",
       "8354 chr6 168216790 168216914 125     9    24.50036\n",
       "8449 chr6 169425536 169425634  99     8   -23.07389\n",
       "2095 chr6  35562231  35562449 219     8    22.07177\n",
       "106  chr6   1524297   1524406 110     8   -21.58183\n",
       "2301 chr6  39228295  39228367  73     7   -20.93121\n",
       "3823 chr6  73354681  73354747  67     8   -20.57964\n",
       "3403 chr6  63332632  63332718  87     7   -20.03170\n",
       "647  chr6  10659348  10659409  62     7   -19.78773\n",
       "7864 chr6 160064487 160064557  71     7   -19.65530\n",
       "8282 chr6 166979794 166979953 160     6   -18.94407\n",
       "5327 chr6 107460387 107460511 125     7   -18.93360\n",
       "2107 chr6  35764977  35765062  86     6   -18.88006\n",
       "6154 chr6 125154965 125155030  66     6    17.56113\n",
       "3826 chr6  73362735  73362801  67     6   -17.28292\n",
       "8120 chr6 164040207 164040293  87     6    16.38078"
      ]
     },
     "metadata": {},
     "output_type": "display_data"
    }
   ],
   "source": [
    "dmrs"
   ]
  },
  {
   "cell_type": "code",
   "execution_count": 21,
   "id": "ba2e6ade",
   "metadata": {},
   "outputs": [],
   "source": [
    "X <- model.matrix(~ cohort + machine + CD8T + CD4T + NK + Bcell + Mono + bmi + age + sex, filt.df)"
   ]
  },
  {
   "cell_type": "code",
   "execution_count": 22,
   "id": "d607acc6",
   "metadata": {},
   "outputs": [
    {
     "data": {
      "text/html": [
       "<style>\n",
       ".list-inline {list-style: none; margin:0; padding: 0}\n",
       ".list-inline>li {display: inline-block}\n",
       ".list-inline>li:not(:last-child)::after {content: \"\\00b7\"; padding: 0 .5ex}\n",
       "</style>\n",
       "<ol class=list-inline><li>1.01</li><li>1</li><li>1</li><li>1</li><li>0.99</li><li>1.01</li><li>1</li><li>1</li><li>1.01</li><li>1</li><li>1.01</li><li>1</li><li>1</li><li>1.01</li><li>1</li><li>1</li><li>1</li><li>1</li><li>1</li><li>0.99</li><li>1</li><li>1</li><li>1.01</li><li>0.99</li><li>1</li><li>0.99</li><li>0.99</li><li>1</li><li>0.99</li><li>0.99</li><li>1.01</li><li>0.99</li><li>0.99</li><li>1.06</li><li>1</li><li>1.01</li><li>0.99</li><li>1</li><li>1.01</li><li>1</li><li>1</li><li>1.01</li><li>0.99</li><li>0.99</li><li>0.99</li><li>1</li><li>0.99</li><li>1.02</li><li>0.99</li><li>1</li><li>1</li><li>1</li><li>1.06</li><li>0.99</li><li>1.01</li><li>0.99</li><li>1</li><li>1.01</li><li>0.99</li><li>1</li><li>1.04</li></ol>\n"
      ],
      "text/latex": [
       "\\begin{enumerate*}\n",
       "\\item 1.01\n",
       "\\item 1\n",
       "\\item 1\n",
       "\\item 1\n",
       "\\item 0.99\n",
       "\\item 1.01\n",
       "\\item 1\n",
       "\\item 1\n",
       "\\item 1.01\n",
       "\\item 1\n",
       "\\item 1.01\n",
       "\\item 1\n",
       "\\item 1\n",
       "\\item 1.01\n",
       "\\item 1\n",
       "\\item 1\n",
       "\\item 1\n",
       "\\item 1\n",
       "\\item 1\n",
       "\\item 0.99\n",
       "\\item 1\n",
       "\\item 1\n",
       "\\item 1.01\n",
       "\\item 0.99\n",
       "\\item 1\n",
       "\\item 0.99\n",
       "\\item 0.99\n",
       "\\item 1\n",
       "\\item 0.99\n",
       "\\item 0.99\n",
       "\\item 1.01\n",
       "\\item 0.99\n",
       "\\item 0.99\n",
       "\\item 1.06\n",
       "\\item 1\n",
       "\\item 1.01\n",
       "\\item 0.99\n",
       "\\item 1\n",
       "\\item 1.01\n",
       "\\item 1\n",
       "\\item 1\n",
       "\\item 1.01\n",
       "\\item 0.99\n",
       "\\item 0.99\n",
       "\\item 0.99\n",
       "\\item 1\n",
       "\\item 0.99\n",
       "\\item 1.02\n",
       "\\item 0.99\n",
       "\\item 1\n",
       "\\item 1\n",
       "\\item 1\n",
       "\\item 1.06\n",
       "\\item 0.99\n",
       "\\item 1.01\n",
       "\\item 0.99\n",
       "\\item 1\n",
       "\\item 1.01\n",
       "\\item 0.99\n",
       "\\item 1\n",
       "\\item 1.04\n",
       "\\end{enumerate*}\n"
      ],
      "text/markdown": [
       "1. 1.01\n",
       "2. 1\n",
       "3. 1\n",
       "4. 1\n",
       "5. 0.99\n",
       "6. 1.01\n",
       "7. 1\n",
       "8. 1\n",
       "9. 1.01\n",
       "10. 1\n",
       "11. 1.01\n",
       "12. 1\n",
       "13. 1\n",
       "14. 1.01\n",
       "15. 1\n",
       "16. 1\n",
       "17. 1\n",
       "18. 1\n",
       "19. 1\n",
       "20. 0.99\n",
       "21. 1\n",
       "22. 1\n",
       "23. 1.01\n",
       "24. 0.99\n",
       "25. 1\n",
       "26. 0.99\n",
       "27. 0.99\n",
       "28. 1\n",
       "29. 0.99\n",
       "30. 0.99\n",
       "31. 1.01\n",
       "32. 0.99\n",
       "33. 0.99\n",
       "34. 1.06\n",
       "35. 1\n",
       "36. 1.01\n",
       "37. 0.99\n",
       "38. 1\n",
       "39. 1.01\n",
       "40. 1\n",
       "41. 1\n",
       "42. 1.01\n",
       "43. 0.99\n",
       "44. 0.99\n",
       "45. 0.99\n",
       "46. 1\n",
       "47. 0.99\n",
       "48. 1.02\n",
       "49. 0.99\n",
       "50. 1\n",
       "51. 1\n",
       "52. 1\n",
       "53. 1.06\n",
       "54. 0.99\n",
       "55. 1.01\n",
       "56. 0.99\n",
       "57. 1\n",
       "58. 1.01\n",
       "59. 0.99\n",
       "60. 1\n",
       "61. 1.04\n",
       "\n",
       "\n"
      ],
      "text/plain": [
       " [1] 1.01 1.00 1.00 1.00 0.99 1.01 1.00 1.00 1.01 1.00 1.01 1.00 1.00 1.01 1.00\n",
       "[16] 1.00 1.00 1.00 1.00 0.99 1.00 1.00 1.01 0.99 1.00 0.99 0.99 1.00 0.99 0.99\n",
       "[31] 1.01 0.99 0.99 1.06 1.00 1.01 0.99 1.00 1.01 1.00 1.00 1.01 0.99 0.99 0.99\n",
       "[46] 1.00 0.99 1.02 0.99 1.00 1.00 1.00 1.06 0.99 1.01 0.99 1.00 1.01 0.99 1.00\n",
       "[61] 1.04"
      ]
     },
     "metadata": {},
     "output_type": "display_data"
    }
   ],
   "source": [
    "round( rowSums(filt.df[, c(\"NK\", \"Mono\", \"CD4T\", \"CD8T\", \"Bcell\", \"Gran\")]), 2)"
   ]
  },
  {
   "cell_type": "code",
   "execution_count": 23,
   "id": "8277e9f5",
   "metadata": {},
   "outputs": [
    {
     "data": {
      "text/html": [
       "<style>\n",
       ".dl-inline {width: auto; margin:0; padding: 0}\n",
       ".dl-inline>dt, .dl-inline>dd {float: none; width: auto; display: inline-block}\n",
       ".dl-inline>dt::after {content: \":\\0020\"; padding-right: .5ex}\n",
       ".dl-inline>dt:not(:first-of-type) {padding-left: .5ex}\n",
       "</style><dl class=dl-inline><dt>NK</dt><dd>3.85567136360707</dd><dt>Mono</dt><dd>4.4525823654894</dd><dt>CD4T</dt><dd>9.06333202895729</dd><dt>CD8T</dt><dd>1.71998011883047</dd><dt>Bcell</dt><dd>2.56723674504954</dd><dt>Gran</dt><dd>39.4516563734258</dd></dl>\n"
      ],
      "text/latex": [
       "\\begin{description*}\n",
       "\\item[NK] 3.85567136360707\n",
       "\\item[Mono] 4.4525823654894\n",
       "\\item[CD4T] 9.06333202895729\n",
       "\\item[CD8T] 1.71998011883047\n",
       "\\item[Bcell] 2.56723674504954\n",
       "\\item[Gran] 39.4516563734258\n",
       "\\end{description*}\n"
      ],
      "text/markdown": [
       "NK\n",
       ":   3.85567136360707Mono\n",
       ":   4.4525823654894CD4T\n",
       ":   9.06333202895729CD8T\n",
       ":   1.71998011883047Bcell\n",
       ":   2.56723674504954Gran\n",
       ":   39.4516563734258\n",
       "\n"
      ],
      "text/plain": [
       "       NK      Mono      CD4T      CD8T     Bcell      Gran \n",
       " 3.855671  4.452582  9.063332  1.719980  2.567237 39.451656 "
      ]
     },
     "metadata": {},
     "output_type": "display_data"
    }
   ],
   "source": [
    "colSums(filt.df[, c(\"NK\", \"Mono\", \"CD4T\", \"CD8T\", \"Bcell\", \"Gran\")])"
   ]
  },
  {
   "cell_type": "code",
   "execution_count": 24,
   "id": "30fc5c45",
   "metadata": {},
   "outputs": [
    {
     "name": "stderr",
     "output_type": "stream",
     "text": [
      "Warning message in cor(X):\n",
      "“the standard deviation is zero”\n"
     ]
    },
    {
     "data": {
      "text/html": [
       "<table class=\"dataframe\">\n",
       "<caption>A matrix: 11 × 11 of type dbl</caption>\n",
       "<thead>\n",
       "\t<tr><th></th><th scope=col>(Intercept)</th><th scope=col>cohortCONTROL</th><th scope=col>machineNovaseq2</th><th scope=col>CD8T</th><th scope=col>CD4T</th><th scope=col>NK</th><th scope=col>Bcell</th><th scope=col>Mono</th><th scope=col>bmi</th><th scope=col>age</th><th scope=col>sexM</th></tr>\n",
       "</thead>\n",
       "<tbody>\n",
       "\t<tr><th scope=row>(Intercept)</th><td> 1</td><td>          NA</td><td>         NA</td><td>          NA</td><td>         NA</td><td>         NA</td><td>          NA</td><td>          NA</td><td>          NA</td><td>          NA</td><td>         NA</td></tr>\n",
       "\t<tr><th scope=row>cohortCONTROL</th><td>NA</td><td> 1.000000000</td><td> 0.58086980</td><td> 0.047861323</td><td> 0.15708097</td><td> 0.17918023</td><td> 0.079074487</td><td> 0.003505138</td><td> 0.231553857</td><td> 0.205490003</td><td>-0.05627706</td></tr>\n",
       "\t<tr><th scope=row>machineNovaseq2</th><td>NA</td><td> 0.580869805</td><td> 1.00000000</td><td> 0.176007007</td><td> 0.02539451</td><td> 0.26291593</td><td> 0.195327104</td><td> 0.048454004</td><td> 0.201852785</td><td> 0.374177094</td><td>-0.03004499</td></tr>\n",
       "\t<tr><th scope=row>CD8T</th><td>NA</td><td> 0.047861323</td><td> 0.17600701</td><td> 1.000000000</td><td>-0.15102879</td><td> 0.41196357</td><td> 0.086307586</td><td>-0.043545616</td><td> 0.007386018</td><td> 0.001697975</td><td>-0.03314351</td></tr>\n",
       "\t<tr><th scope=row>CD4T</th><td>NA</td><td> 0.157080972</td><td> 0.02539451</td><td>-0.151028786</td><td> 1.00000000</td><td>-0.08309296</td><td> 0.068016489</td><td>-0.277860282</td><td>-0.148387486</td><td>-0.059137822</td><td>-0.08879252</td></tr>\n",
       "\t<tr><th scope=row>NK</th><td>NA</td><td> 0.179180227</td><td> 0.26291593</td><td> 0.411963572</td><td>-0.08309296</td><td> 1.00000000</td><td> 0.059258466</td><td>-0.033818399</td><td>-0.022756261</td><td> 0.335654853</td><td>-0.02750347</td></tr>\n",
       "\t<tr><th scope=row>Bcell</th><td>NA</td><td> 0.079074487</td><td> 0.19532710</td><td> 0.086307586</td><td> 0.06801649</td><td> 0.05925847</td><td> 1.000000000</td><td> 0.007516909</td><td> 0.085229462</td><td> 0.104474243</td><td>-0.03842846</td></tr>\n",
       "\t<tr><th scope=row>Mono</th><td>NA</td><td> 0.003505138</td><td> 0.04845400</td><td>-0.043545616</td><td>-0.27786028</td><td>-0.03381840</td><td> 0.007516909</td><td> 1.000000000</td><td>-0.100649893</td><td> 0.146028811</td><td> 0.21888798</td></tr>\n",
       "\t<tr><th scope=row>bmi</th><td>NA</td><td> 0.231553857</td><td> 0.20185279</td><td> 0.007386018</td><td>-0.14838749</td><td>-0.02275626</td><td> 0.085229462</td><td>-0.100649893</td><td> 1.000000000</td><td> 0.007670984</td><td>-0.12690616</td></tr>\n",
       "\t<tr><th scope=row>age</th><td>NA</td><td> 0.205490003</td><td> 0.37417709</td><td> 0.001697975</td><td>-0.05913782</td><td> 0.33565485</td><td> 0.104474243</td><td> 0.146028811</td><td> 0.007670984</td><td> 1.000000000</td><td>-0.10155286</td></tr>\n",
       "\t<tr><th scope=row>sexM</th><td>NA</td><td>-0.056277056</td><td>-0.03004499</td><td>-0.033143513</td><td>-0.08879252</td><td>-0.02750347</td><td>-0.038428463</td><td> 0.218887979</td><td>-0.126906160</td><td>-0.101552859</td><td> 1.00000000</td></tr>\n",
       "</tbody>\n",
       "</table>\n"
      ],
      "text/latex": [
       "A matrix: 11 × 11 of type dbl\n",
       "\\begin{tabular}{r|lllllllllll}\n",
       "  & (Intercept) & cohortCONTROL & machineNovaseq2 & CD8T & CD4T & NK & Bcell & Mono & bmi & age & sexM\\\\\n",
       "\\hline\n",
       "\t(Intercept) &  1 &           NA &          NA &           NA &          NA &          NA &           NA &           NA &           NA &           NA &          NA\\\\\n",
       "\tcohortCONTROL & NA &  1.000000000 &  0.58086980 &  0.047861323 &  0.15708097 &  0.17918023 &  0.079074487 &  0.003505138 &  0.231553857 &  0.205490003 & -0.05627706\\\\\n",
       "\tmachineNovaseq2 & NA &  0.580869805 &  1.00000000 &  0.176007007 &  0.02539451 &  0.26291593 &  0.195327104 &  0.048454004 &  0.201852785 &  0.374177094 & -0.03004499\\\\\n",
       "\tCD8T & NA &  0.047861323 &  0.17600701 &  1.000000000 & -0.15102879 &  0.41196357 &  0.086307586 & -0.043545616 &  0.007386018 &  0.001697975 & -0.03314351\\\\\n",
       "\tCD4T & NA &  0.157080972 &  0.02539451 & -0.151028786 &  1.00000000 & -0.08309296 &  0.068016489 & -0.277860282 & -0.148387486 & -0.059137822 & -0.08879252\\\\\n",
       "\tNK & NA &  0.179180227 &  0.26291593 &  0.411963572 & -0.08309296 &  1.00000000 &  0.059258466 & -0.033818399 & -0.022756261 &  0.335654853 & -0.02750347\\\\\n",
       "\tBcell & NA &  0.079074487 &  0.19532710 &  0.086307586 &  0.06801649 &  0.05925847 &  1.000000000 &  0.007516909 &  0.085229462 &  0.104474243 & -0.03842846\\\\\n",
       "\tMono & NA &  0.003505138 &  0.04845400 & -0.043545616 & -0.27786028 & -0.03381840 &  0.007516909 &  1.000000000 & -0.100649893 &  0.146028811 &  0.21888798\\\\\n",
       "\tbmi & NA &  0.231553857 &  0.20185279 &  0.007386018 & -0.14838749 & -0.02275626 &  0.085229462 & -0.100649893 &  1.000000000 &  0.007670984 & -0.12690616\\\\\n",
       "\tage & NA &  0.205490003 &  0.37417709 &  0.001697975 & -0.05913782 &  0.33565485 &  0.104474243 &  0.146028811 &  0.007670984 &  1.000000000 & -0.10155286\\\\\n",
       "\tsexM & NA & -0.056277056 & -0.03004499 & -0.033143513 & -0.08879252 & -0.02750347 & -0.038428463 &  0.218887979 & -0.126906160 & -0.101552859 &  1.00000000\\\\\n",
       "\\end{tabular}\n"
      ],
      "text/markdown": [
       "\n",
       "A matrix: 11 × 11 of type dbl\n",
       "\n",
       "| <!--/--> | (Intercept) | cohortCONTROL | machineNovaseq2 | CD8T | CD4T | NK | Bcell | Mono | bmi | age | sexM |\n",
       "|---|---|---|---|---|---|---|---|---|---|---|---|\n",
       "| (Intercept) |  1 |           NA |          NA |           NA |          NA |          NA |           NA |           NA |           NA |           NA |          NA |\n",
       "| cohortCONTROL | NA |  1.000000000 |  0.58086980 |  0.047861323 |  0.15708097 |  0.17918023 |  0.079074487 |  0.003505138 |  0.231553857 |  0.205490003 | -0.05627706 |\n",
       "| machineNovaseq2 | NA |  0.580869805 |  1.00000000 |  0.176007007 |  0.02539451 |  0.26291593 |  0.195327104 |  0.048454004 |  0.201852785 |  0.374177094 | -0.03004499 |\n",
       "| CD8T | NA |  0.047861323 |  0.17600701 |  1.000000000 | -0.15102879 |  0.41196357 |  0.086307586 | -0.043545616 |  0.007386018 |  0.001697975 | -0.03314351 |\n",
       "| CD4T | NA |  0.157080972 |  0.02539451 | -0.151028786 |  1.00000000 | -0.08309296 |  0.068016489 | -0.277860282 | -0.148387486 | -0.059137822 | -0.08879252 |\n",
       "| NK | NA |  0.179180227 |  0.26291593 |  0.411963572 | -0.08309296 |  1.00000000 |  0.059258466 | -0.033818399 | -0.022756261 |  0.335654853 | -0.02750347 |\n",
       "| Bcell | NA |  0.079074487 |  0.19532710 |  0.086307586 |  0.06801649 |  0.05925847 |  1.000000000 |  0.007516909 |  0.085229462 |  0.104474243 | -0.03842846 |\n",
       "| Mono | NA |  0.003505138 |  0.04845400 | -0.043545616 | -0.27786028 | -0.03381840 |  0.007516909 |  1.000000000 | -0.100649893 |  0.146028811 |  0.21888798 |\n",
       "| bmi | NA |  0.231553857 |  0.20185279 |  0.007386018 | -0.14838749 | -0.02275626 |  0.085229462 | -0.100649893 |  1.000000000 |  0.007670984 | -0.12690616 |\n",
       "| age | NA |  0.205490003 |  0.37417709 |  0.001697975 | -0.05913782 |  0.33565485 |  0.104474243 |  0.146028811 |  0.007670984 |  1.000000000 | -0.10155286 |\n",
       "| sexM | NA | -0.056277056 | -0.03004499 | -0.033143513 | -0.08879252 | -0.02750347 | -0.038428463 |  0.218887979 | -0.126906160 | -0.101552859 |  1.00000000 |\n",
       "\n"
      ],
      "text/plain": [
       "                (Intercept) cohortCONTROL machineNovaseq2 CD8T        \n",
       "(Intercept)      1                    NA           NA               NA\n",
       "cohortCONTROL   NA           1.000000000   0.58086980      0.047861323\n",
       "machineNovaseq2 NA           0.580869805   1.00000000      0.176007007\n",
       "CD8T            NA           0.047861323   0.17600701      1.000000000\n",
       "CD4T            NA           0.157080972   0.02539451     -0.151028786\n",
       "NK              NA           0.179180227   0.26291593      0.411963572\n",
       "Bcell           NA           0.079074487   0.19532710      0.086307586\n",
       "Mono            NA           0.003505138   0.04845400     -0.043545616\n",
       "bmi             NA           0.231553857   0.20185279      0.007386018\n",
       "age             NA           0.205490003   0.37417709      0.001697975\n",
       "sexM            NA          -0.056277056  -0.03004499     -0.033143513\n",
       "                CD4T        NK          Bcell        Mono         bmi         \n",
       "(Intercept)              NA          NA           NA           NA           NA\n",
       "cohortCONTROL    0.15708097  0.17918023  0.079074487  0.003505138  0.231553857\n",
       "machineNovaseq2  0.02539451  0.26291593  0.195327104  0.048454004  0.201852785\n",
       "CD8T            -0.15102879  0.41196357  0.086307586 -0.043545616  0.007386018\n",
       "CD4T             1.00000000 -0.08309296  0.068016489 -0.277860282 -0.148387486\n",
       "NK              -0.08309296  1.00000000  0.059258466 -0.033818399 -0.022756261\n",
       "Bcell            0.06801649  0.05925847  1.000000000  0.007516909  0.085229462\n",
       "Mono            -0.27786028 -0.03381840  0.007516909  1.000000000 -0.100649893\n",
       "bmi             -0.14838749 -0.02275626  0.085229462 -0.100649893  1.000000000\n",
       "age             -0.05913782  0.33565485  0.104474243  0.146028811  0.007670984\n",
       "sexM            -0.08879252 -0.02750347 -0.038428463  0.218887979 -0.126906160\n",
       "                age          sexM       \n",
       "(Intercept)               NA          NA\n",
       "cohortCONTROL    0.205490003 -0.05627706\n",
       "machineNovaseq2  0.374177094 -0.03004499\n",
       "CD8T             0.001697975 -0.03314351\n",
       "CD4T            -0.059137822 -0.08879252\n",
       "NK               0.335654853 -0.02750347\n",
       "Bcell            0.104474243 -0.03842846\n",
       "Mono             0.146028811  0.21888798\n",
       "bmi              0.007670984 -0.12690616\n",
       "age              1.000000000 -0.10155286\n",
       "sexM            -0.101552859  1.00000000"
      ]
     },
     "metadata": {},
     "output_type": "display_data"
    }
   ],
   "source": [
    "cor(X)"
   ]
  },
  {
   "cell_type": "code",
   "execution_count": null,
   "id": "45db2bb5",
   "metadata": {},
   "outputs": [],
   "source": []
  }
 ],
 "metadata": {
  "kernelspec": {
   "display_name": "R [conda env:R] *",
   "language": "R",
   "name": "conda-env-R-r"
  },
  "language_info": {
   "codemirror_mode": "r",
   "file_extension": ".r",
   "mimetype": "text/x-r-source",
   "name": "R",
   "pygments_lexer": "r",
   "version": "4.0.3"
  }
 },
 "nbformat": 4,
 "nbformat_minor": 5
}
