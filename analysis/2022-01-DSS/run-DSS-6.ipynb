{
 "cells": [
  {
   "cell_type": "code",
   "execution_count": 1,
   "id": "cb39b31b",
   "metadata": {},
   "outputs": [
    {
     "name": "stderr",
     "output_type": "stream",
     "text": [
      "── \u001b[1mAttaching packages\u001b[22m ────────────────────────────────────────────────────────────────────────────────────────────────────── tidyverse 1.3.1 ──\n",
      "\n",
      "\u001b[32m✔\u001b[39m \u001b[34mggplot2\u001b[39m 3.3.5     \u001b[32m✔\u001b[39m \u001b[34mpurrr  \u001b[39m 0.3.4\n",
      "\u001b[32m✔\u001b[39m \u001b[34mtibble \u001b[39m 3.1.6     \u001b[32m✔\u001b[39m \u001b[34mdplyr  \u001b[39m 1.0.7\n",
      "\u001b[32m✔\u001b[39m \u001b[34mtidyr  \u001b[39m 1.1.4     \u001b[32m✔\u001b[39m \u001b[34mstringr\u001b[39m 1.4.0\n",
      "\u001b[32m✔\u001b[39m \u001b[34mreadr  \u001b[39m 2.1.1     \u001b[32m✔\u001b[39m \u001b[34mforcats\u001b[39m 0.5.1\n",
      "\n",
      "── \u001b[1mConflicts\u001b[22m ───────────────────────────────────────────────────────────────────────────────────────────────────────── tidyverse_conflicts() ──\n",
      "\u001b[31m✖\u001b[39m \u001b[34mdplyr\u001b[39m::\u001b[32mbetween()\u001b[39m   masks \u001b[34mdata.table\u001b[39m::between()\n",
      "\u001b[31m✖\u001b[39m \u001b[34mdplyr\u001b[39m::\u001b[32mfilter()\u001b[39m    masks \u001b[34mstats\u001b[39m::filter()\n",
      "\u001b[31m✖\u001b[39m \u001b[34mdplyr\u001b[39m::\u001b[32mfirst()\u001b[39m     masks \u001b[34mdata.table\u001b[39m::first()\n",
      "\u001b[31m✖\u001b[39m \u001b[34mdplyr\u001b[39m::\u001b[32mlag()\u001b[39m       masks \u001b[34mstats\u001b[39m::lag()\n",
      "\u001b[31m✖\u001b[39m \u001b[34mdplyr\u001b[39m::\u001b[32mlast()\u001b[39m      masks \u001b[34mdata.table\u001b[39m::last()\n",
      "\u001b[31m✖\u001b[39m \u001b[34mpurrr\u001b[39m::\u001b[32mtranspose()\u001b[39m masks \u001b[34mdata.table\u001b[39m::transpose()\n",
      "\n",
      "Loading required package: Biobase\n",
      "\n",
      "Loading required package: BiocGenerics\n",
      "\n",
      "Loading required package: parallel\n",
      "\n",
      "\n",
      "Attaching package: ‘BiocGenerics’\n",
      "\n",
      "\n",
      "The following objects are masked from ‘package:parallel’:\n",
      "\n",
      "    clusterApply, clusterApplyLB, clusterCall, clusterEvalQ,\n",
      "    clusterExport, clusterMap, parApply, parCapply, parLapply,\n",
      "    parLapplyLB, parRapply, parSapply, parSapplyLB\n",
      "\n",
      "\n",
      "The following objects are masked from ‘package:dplyr’:\n",
      "\n",
      "    combine, intersect, setdiff, union\n",
      "\n",
      "\n",
      "The following objects are masked from ‘package:stats’:\n",
      "\n",
      "    IQR, mad, sd, var, xtabs\n",
      "\n",
      "\n",
      "The following objects are masked from ‘package:base’:\n",
      "\n",
      "    anyDuplicated, append, as.data.frame, basename, cbind, colnames,\n",
      "    dirname, do.call, duplicated, eval, evalq, Filter, Find, get, grep,\n",
      "    grepl, intersect, is.unsorted, lapply, Map, mapply, match, mget,\n",
      "    order, paste, pmax, pmax.int, pmin, pmin.int, Position, rank,\n",
      "    rbind, Reduce, rownames, sapply, setdiff, sort, table, tapply,\n",
      "    union, unique, unsplit, which.max, which.min\n",
      "\n",
      "\n",
      "Welcome to Bioconductor\n",
      "\n",
      "    Vignettes contain introductory material; view with\n",
      "    'browseVignettes()'. To cite Bioconductor, see\n",
      "    'citation(\"Biobase\")', and for packages 'citation(\"pkgname\")'.\n",
      "\n",
      "\n",
      "Loading required package: BiocParallel\n",
      "\n",
      "Loading required package: bsseq\n",
      "\n",
      "Loading required package: GenomicRanges\n",
      "\n",
      "Loading required package: stats4\n",
      "\n",
      "Loading required package: S4Vectors\n",
      "\n",
      "\n",
      "Attaching package: ‘S4Vectors’\n",
      "\n",
      "\n",
      "The following objects are masked from ‘package:dplyr’:\n",
      "\n",
      "    first, rename\n",
      "\n",
      "\n",
      "The following object is masked from ‘package:tidyr’:\n",
      "\n",
      "    expand\n",
      "\n",
      "\n",
      "The following objects are masked from ‘package:data.table’:\n",
      "\n",
      "    first, second\n",
      "\n",
      "\n",
      "The following object is masked from ‘package:base’:\n",
      "\n",
      "    expand.grid\n",
      "\n",
      "\n",
      "Loading required package: IRanges\n",
      "\n",
      "\n",
      "Attaching package: ‘IRanges’\n",
      "\n",
      "\n",
      "The following objects are masked from ‘package:dplyr’:\n",
      "\n",
      "    collapse, desc, slice\n",
      "\n",
      "\n",
      "The following object is masked from ‘package:purrr’:\n",
      "\n",
      "    reduce\n",
      "\n",
      "\n",
      "The following object is masked from ‘package:data.table’:\n",
      "\n",
      "    shift\n",
      "\n",
      "\n",
      "Loading required package: GenomeInfoDb\n",
      "\n",
      "Loading required package: SummarizedExperiment\n",
      "\n",
      "Loading required package: MatrixGenerics\n",
      "\n",
      "Loading required package: matrixStats\n",
      "\n",
      "\n",
      "Attaching package: ‘matrixStats’\n",
      "\n",
      "\n",
      "The following objects are masked from ‘package:Biobase’:\n",
      "\n",
      "    anyMissing, rowMedians\n",
      "\n",
      "\n",
      "The following object is masked from ‘package:dplyr’:\n",
      "\n",
      "    count\n",
      "\n",
      "\n",
      "\n",
      "Attaching package: ‘MatrixGenerics’\n",
      "\n",
      "\n",
      "The following objects are masked from ‘package:matrixStats’:\n",
      "\n",
      "    colAlls, colAnyNAs, colAnys, colAvgsPerRowSet, colCollapse,\n",
      "    colCounts, colCummaxs, colCummins, colCumprods, colCumsums,\n",
      "    colDiffs, colIQRDiffs, colIQRs, colLogSumExps, colMadDiffs,\n",
      "    colMads, colMaxs, colMeans2, colMedians, colMins, colOrderStats,\n",
      "    colProds, colQuantiles, colRanges, colRanks, colSdDiffs, colSds,\n",
      "    colSums2, colTabulates, colVarDiffs, colVars, colWeightedMads,\n",
      "    colWeightedMeans, colWeightedMedians, colWeightedSds,\n",
      "    colWeightedVars, rowAlls, rowAnyNAs, rowAnys, rowAvgsPerColSet,\n",
      "    rowCollapse, rowCounts, rowCummaxs, rowCummins, rowCumprods,\n",
      "    rowCumsums, rowDiffs, rowIQRDiffs, rowIQRs, rowLogSumExps,\n",
      "    rowMadDiffs, rowMads, rowMaxs, rowMeans2, rowMedians, rowMins,\n",
      "    rowOrderStats, rowProds, rowQuantiles, rowRanges, rowRanks,\n",
      "    rowSdDiffs, rowSds, rowSums2, rowTabulates, rowVarDiffs, rowVars,\n",
      "    rowWeightedMads, rowWeightedMeans, rowWeightedMedians,\n",
      "    rowWeightedSds, rowWeightedVars\n",
      "\n",
      "\n",
      "The following object is masked from ‘package:Biobase’:\n",
      "\n",
      "    rowMedians\n",
      "\n",
      "\n"
     ]
    }
   ],
   "source": [
    "# run-DSS.R\n",
    "# Runs Dispersion Shrinkage Estimation method on methylation data (one chromosome at a time)\n",
    "library(data.table)\n",
    "library(tidyverse)\n",
    "library(argparse)\n",
    "library(DSS)"
   ]
  },
  {
   "cell_type": "markdown",
   "id": "39824eae",
   "metadata": {},
   "source": [
    "Filter first!!!"
   ]
  },
  {
   "cell_type": "code",
   "execution_count": 2,
   "id": "81d18637",
   "metadata": {},
   "outputs": [],
   "source": [
    "parser <- ArgumentParser()\n",
    "parser$add_argument(\"--chr\", default= \"chr6\", help='Chromosome to run DSS on')\n",
    "parser$add_argument(\"--covariates\", default= \"NK,CD4T\")\n",
    "parser$add_argument(\"--num_pcs\", default= \"2\", help = 'number of principal components (precomputed)')\n",
    "args <- parser$parse_known_args()\n",
    "\n",
    "# Setup output directory, will save called regions, figures?\n",
    "odir <- paste0(\"result-\", args[[1]]$chr)\n",
    "dir.create(odir, showWarning = FALSE)"
   ]
  },
  {
   "cell_type": "code",
   "execution_count": 3,
   "id": "bbb8c210",
   "metadata": {},
   "outputs": [],
   "source": [
    "pc.df <- read_csv(file.path(\"../../data/prin-comps-array-samples/\", paste0(args[[1]]$chr , \".csv\")), \n",
    "                  col_types = cols())"
   ]
  },
  {
   "cell_type": "code",
   "execution_count": 4,
   "id": "68901d16",
   "metadata": {},
   "outputs": [],
   "source": [
    "ss.df <- read_csv(\"../../data/meta/phenos-cleaned.csv\", col_types = cols())\n",
    "DT <- fread(file.path(\"../../data/cov-meth/\", paste0(args[[1]]$chr, \".tsv\")))"
   ]
  },
  {
   "cell_type": "code",
   "execution_count": 5,
   "id": "05456126",
   "metadata": {},
   "outputs": [],
   "source": [
    "make_tall_matrix <- function(DT, value.var) {\n",
    "    # Turn to wide format with samples indexing columns\n",
    "    # and position / locus indexing row\n",
    "    out <- dcast(DT, pos~sample, value.var=value.var)\n",
    "    #rownames(out) <- out$pos\n",
    "    #out[ ,c(\"pos\") := NULL]\n",
    "    \n",
    "    return(out)\n",
    "}\n",
    "\n",
    "\n",
    "drop_null_positions <- function(X, p=0.5){\n",
    "    # Drops positions in X with too many nulls,\n",
    "    # X is from `make_tall_matrix` and p is a percentage from 0 to 1\n",
    "    stopifnot(p >= 0, p <= 1)\n",
    "    \n",
    "    # Cut point as float\n",
    "    cut <- (ncol(X) - 1) * p\n",
    "    num_null <- rowSums(is.na(X))\n",
    "    \n",
    "    return(X[num_null <= cut, ])\n",
    "}\n",
    "\n",
    "\n"
   ]
  },
  {
   "cell_type": "code",
   "execution_count": null,
   "id": "0e2d161e",
   "metadata": {},
   "outputs": [],
   "source": [
    "M <- make_tall_matrix(DT, \"methylated\") %>% drop_null_positions\n",
    "Cov <- make_tall_matrix(DT, \"coverage\") %>% drop_null_positions"
   ]
  },
  {
   "cell_type": "code",
   "execution_count": null,
   "id": "e0f2e44b",
   "metadata": {},
   "outputs": [],
   "source": [
    "valid_samples <- intersect(intersect(colnames(M), ss.df$sample), pc.df$sample)\n",
    "\n",
    "filt.df <- ss.df %>%\n",
    "            inner_join(pc.df, by = \"sample\") %>% \n",
    "            dplyr::filter(sample %in% valid_samples) \n",
    "\n",
    "# pack years smoking needs to be not na\n",
    "filt.df$pack_years[is.na(filt.df$pack_years)] <- 0\n",
    "\n",
    "drop_cols <- as.character(setdiff(colnames(M), valid_samples))[-1] # dont remove pos\n",
    "M[, (drop_cols):=NULL]\n",
    "Cov[, (drop_cols):=NULL]\n",
    "\n",
    "length(valid_samples)"
   ]
  },
  {
   "cell_type": "code",
   "execution_count": 8,
   "id": "f9267b7e",
   "metadata": {},
   "outputs": [],
   "source": [
    "load.samples <- filt.df %>% filter(cohort == \"AD\") %>% pull(sample) %>% as.character \n",
    "ctrl.samples <- filt.df %>% filter(cohort == \"CONTROL\") %>% pull(sample) %>% as.character"
   ]
  },
  {
   "cell_type": "code",
   "execution_count": 9,
   "id": "c7d15f8f",
   "metadata": {},
   "outputs": [],
   "source": [
    "get_na_mask <- function(X, col.names){\n",
    "    mask <- is.na(X)\n",
    "    cn <- colnames(mask)\n",
    "    for (j in 1:ncol(mask)){\n",
    "        if ((cn[j] %in% col.names)) {\n",
    "            mask[, j] <- FALSE\n",
    "        }\n",
    "    }\n",
    "    return(mask)\n",
    "}\n",
    "\n",
    "impute_by_group <- function(X, col.names, round.mean = TRUE){\n",
    "    # The imputed value is the position mean\n",
    "    position.means <- rowMeans(X[ , col.names, with = FALSE], na.rm = TRUE)\n",
    "    \n",
    "    # If \n",
    "    if (round.mean) {position.means <- round(position.means)}\n",
    "    mask <- get_na_mask(X, col.names)\n",
    "    \n",
    "    # Imputation step\n",
    "    # With data.tables, for loops much master than vectorization\n",
    "    for (i in 1:nrow(X)){\n",
    "        for (j in which(mask[i, ])){\n",
    "            set(X, i, j, value = position.means[i])\n",
    "        }\n",
    "    }\n",
    "}"
   ]
  },
  {
   "cell_type": "code",
   "execution_count": 10,
   "id": "34be79d4",
   "metadata": {},
   "outputs": [],
   "source": [
    "impute_by_group(M, load.samples)\n"
   ]
  },
  {
   "cell_type": "code",
   "execution_count": 11,
   "id": "57fe6aa3",
   "metadata": {},
   "outputs": [],
   "source": [
    "impute_by_group(M, ctrl.samples)\n",
    "impute_by_group(Cov, load.samples)\n",
    "impute_by_group(Cov, ctrl.samples)"
   ]
  },
  {
   "cell_type": "code",
   "execution_count": 12,
   "id": "0c684443",
   "metadata": {},
   "outputs": [
    {
     "data": {
      "text/html": [
       "<table class=\"dataframe\">\n",
       "<caption>A data.table: 6 × 72</caption>\n",
       "<thead>\n",
       "\t<tr><th scope=col>pos</th><th scope=col>100</th><th scope=col>101</th><th scope=col>104</th><th scope=col>105</th><th scope=col>106</th><th scope=col>107</th><th scope=col>108</th><th scope=col>109</th><th scope=col>110</th><th scope=col>⋯</th><th scope=col>178</th><th scope=col>179</th><th scope=col>180</th><th scope=col>181</th><th scope=col>182</th><th scope=col>183</th><th scope=col>184</th><th scope=col>185</th><th scope=col>186</th><th scope=col>188</th></tr>\n",
       "\t<tr><th scope=col>&lt;int&gt;</th><th scope=col>&lt;int&gt;</th><th scope=col>&lt;int&gt;</th><th scope=col>&lt;int&gt;</th><th scope=col>&lt;int&gt;</th><th scope=col>&lt;int&gt;</th><th scope=col>&lt;int&gt;</th><th scope=col>&lt;int&gt;</th><th scope=col>&lt;int&gt;</th><th scope=col>&lt;int&gt;</th><th scope=col>⋯</th><th scope=col>&lt;int&gt;</th><th scope=col>&lt;int&gt;</th><th scope=col>&lt;int&gt;</th><th scope=col>&lt;int&gt;</th><th scope=col>&lt;int&gt;</th><th scope=col>&lt;int&gt;</th><th scope=col>&lt;int&gt;</th><th scope=col>&lt;int&gt;</th><th scope=col>&lt;int&gt;</th><th scope=col>&lt;int&gt;</th></tr>\n",
       "</thead>\n",
       "<tbody>\n",
       "\t<tr><td>10526255</td><td>4</td><td>4</td><td>10</td><td>4</td><td>4</td><td>4</td><td>0</td><td>4</td><td>0</td><td>⋯</td><td> 4</td><td> 1</td><td>4</td><td>4</td><td> 6</td><td>4</td><td>4</td><td>4</td><td>4</td><td>7</td></tr>\n",
       "\t<tr><td>10526440</td><td>5</td><td>5</td><td>12</td><td>5</td><td>5</td><td>3</td><td>1</td><td>3</td><td>5</td><td>⋯</td><td> 8</td><td> 0</td><td>5</td><td>3</td><td>13</td><td>3</td><td>8</td><td>5</td><td>5</td><td>4</td></tr>\n",
       "\t<tr><td>10526442</td><td>5</td><td>5</td><td>10</td><td>5</td><td>5</td><td>4</td><td>0</td><td>4</td><td>5</td><td>⋯</td><td> 7</td><td> 8</td><td>5</td><td>4</td><td>14</td><td>4</td><td>5</td><td>5</td><td>5</td><td>7</td></tr>\n",
       "\t<tr><td>10526456</td><td>3</td><td>7</td><td>12</td><td>7</td><td>7</td><td>5</td><td>1</td><td>5</td><td>3</td><td>⋯</td><td>12</td><td>12</td><td>7</td><td>5</td><td>19</td><td>5</td><td>9</td><td>7</td><td>7</td><td>8</td></tr>\n",
       "\t<tr><td>10526459</td><td>2</td><td>4</td><td>11</td><td>4</td><td>4</td><td>3</td><td>1</td><td>3</td><td>5</td><td>⋯</td><td> 7</td><td>10</td><td>4</td><td>3</td><td>13</td><td>3</td><td>5</td><td>4</td><td>4</td><td>3</td></tr>\n",
       "\t<tr><td>10526462</td><td>6</td><td>6</td><td>12</td><td>6</td><td>6</td><td>5</td><td>1</td><td>5</td><td>5</td><td>⋯</td><td>11</td><td>10</td><td>6</td><td>5</td><td>18</td><td>5</td><td>8</td><td>6</td><td>6</td><td>6</td></tr>\n",
       "</tbody>\n",
       "</table>\n"
      ],
      "text/latex": [
       "A data.table: 6 × 72\n",
       "\\begin{tabular}{lllllllllllllllllllll}\n",
       " pos & 100 & 101 & 104 & 105 & 106 & 107 & 108 & 109 & 110 & ⋯ & 178 & 179 & 180 & 181 & 182 & 183 & 184 & 185 & 186 & 188\\\\\n",
       " <int> & <int> & <int> & <int> & <int> & <int> & <int> & <int> & <int> & <int> & ⋯ & <int> & <int> & <int> & <int> & <int> & <int> & <int> & <int> & <int> & <int>\\\\\n",
       "\\hline\n",
       "\t 10526255 & 4 & 4 & 10 & 4 & 4 & 4 & 0 & 4 & 0 & ⋯ &  4 &  1 & 4 & 4 &  6 & 4 & 4 & 4 & 4 & 7\\\\\n",
       "\t 10526440 & 5 & 5 & 12 & 5 & 5 & 3 & 1 & 3 & 5 & ⋯ &  8 &  0 & 5 & 3 & 13 & 3 & 8 & 5 & 5 & 4\\\\\n",
       "\t 10526442 & 5 & 5 & 10 & 5 & 5 & 4 & 0 & 4 & 5 & ⋯ &  7 &  8 & 5 & 4 & 14 & 4 & 5 & 5 & 5 & 7\\\\\n",
       "\t 10526456 & 3 & 7 & 12 & 7 & 7 & 5 & 1 & 5 & 3 & ⋯ & 12 & 12 & 7 & 5 & 19 & 5 & 9 & 7 & 7 & 8\\\\\n",
       "\t 10526459 & 2 & 4 & 11 & 4 & 4 & 3 & 1 & 3 & 5 & ⋯ &  7 & 10 & 4 & 3 & 13 & 3 & 5 & 4 & 4 & 3\\\\\n",
       "\t 10526462 & 6 & 6 & 12 & 6 & 6 & 5 & 1 & 5 & 5 & ⋯ & 11 & 10 & 6 & 5 & 18 & 5 & 8 & 6 & 6 & 6\\\\\n",
       "\\end{tabular}\n"
      ],
      "text/markdown": [
       "\n",
       "A data.table: 6 × 72\n",
       "\n",
       "| pos &lt;int&gt; | 100 &lt;int&gt; | 101 &lt;int&gt; | 104 &lt;int&gt; | 105 &lt;int&gt; | 106 &lt;int&gt; | 107 &lt;int&gt; | 108 &lt;int&gt; | 109 &lt;int&gt; | 110 &lt;int&gt; | ⋯ ⋯ | 178 &lt;int&gt; | 179 &lt;int&gt; | 180 &lt;int&gt; | 181 &lt;int&gt; | 182 &lt;int&gt; | 183 &lt;int&gt; | 184 &lt;int&gt; | 185 &lt;int&gt; | 186 &lt;int&gt; | 188 &lt;int&gt; |\n",
       "|---|---|---|---|---|---|---|---|---|---|---|---|---|---|---|---|---|---|---|---|---|\n",
       "| 10526255 | 4 | 4 | 10 | 4 | 4 | 4 | 0 | 4 | 0 | ⋯ |  4 |  1 | 4 | 4 |  6 | 4 | 4 | 4 | 4 | 7 |\n",
       "| 10526440 | 5 | 5 | 12 | 5 | 5 | 3 | 1 | 3 | 5 | ⋯ |  8 |  0 | 5 | 3 | 13 | 3 | 8 | 5 | 5 | 4 |\n",
       "| 10526442 | 5 | 5 | 10 | 5 | 5 | 4 | 0 | 4 | 5 | ⋯ |  7 |  8 | 5 | 4 | 14 | 4 | 5 | 5 | 5 | 7 |\n",
       "| 10526456 | 3 | 7 | 12 | 7 | 7 | 5 | 1 | 5 | 3 | ⋯ | 12 | 12 | 7 | 5 | 19 | 5 | 9 | 7 | 7 | 8 |\n",
       "| 10526459 | 2 | 4 | 11 | 4 | 4 | 3 | 1 | 3 | 5 | ⋯ |  7 | 10 | 4 | 3 | 13 | 3 | 5 | 4 | 4 | 3 |\n",
       "| 10526462 | 6 | 6 | 12 | 6 | 6 | 5 | 1 | 5 | 5 | ⋯ | 11 | 10 | 6 | 5 | 18 | 5 | 8 | 6 | 6 | 6 |\n",
       "\n"
      ],
      "text/plain": [
       "  pos      100 101 104 105 106 107 108 109 110 ⋯ 178 179 180 181 182 183 184\n",
       "1 10526255 4   4   10  4   4   4   0   4   0   ⋯  4   1  4   4    6  4   4  \n",
       "2 10526440 5   5   12  5   5   3   1   3   5   ⋯  8   0  5   3   13  3   8  \n",
       "3 10526442 5   5   10  5   5   4   0   4   5   ⋯  7   8  5   4   14  4   5  \n",
       "4 10526456 3   7   12  7   7   5   1   5   3   ⋯ 12  12  7   5   19  5   9  \n",
       "5 10526459 2   4   11  4   4   3   1   3   5   ⋯  7  10  4   3   13  3   5  \n",
       "6 10526462 6   6   12  6   6   5   1   5   5   ⋯ 11  10  6   5   18  5   8  \n",
       "  185 186 188\n",
       "1 4   4   7  \n",
       "2 5   5   4  \n",
       "3 5   5   7  \n",
       "4 7   7   8  \n",
       "5 4   4   3  \n",
       "6 6   6   6  "
      ]
     },
     "metadata": {},
     "output_type": "display_data"
    }
   ],
   "source": [
    "head(M)"
   ]
  },
  {
   "cell_type": "code",
   "execution_count": 13,
   "id": "36f111ba",
   "metadata": {},
   "outputs": [],
   "source": [
    "M <- drop_null_positions(M, 0)\n",
    "Cov <- drop_null_positions(Cov, 0)"
   ]
  },
  {
   "cell_type": "code",
   "execution_count": 14,
   "id": "d3025751",
   "metadata": {},
   "outputs": [],
   "source": [
    "# Order needs to be correct!!!\n",
    "valid_pos <- intersect(M$pos, Cov$pos)\n",
    "M <- M[pos %in% valid_pos , c(\"pos\", filt.df$sample), with = FALSE]\n",
    "Cov <- Cov[pos %in% valid_pos, c(\"pos\", filt.df$sample), with = FALSE]"
   ]
  },
  {
   "cell_type": "code",
   "execution_count": 15,
   "id": "b35e5be2",
   "metadata": {},
   "outputs": [],
   "source": [
    "# create bs seq object, needs chromosome identiifer, methylated reads, and unmethylated reads\n",
    "bs <- BSseq(chr = rep(DT$chr[1], nrow(M)), pos = M$pos,\n",
    "            M = as.matrix(M[ , -c(\"pos\"), with=FALSE]), \n",
    "            Cov = as.matrix(Cov[, -c(\"pos\"), with=FALSE]), \n",
    "            sampleNames = names(M)[-1])\n"
   ]
  },
  {
   "cell_type": "code",
   "execution_count": 16,
   "id": "037e4a7e",
   "metadata": {},
   "outputs": [
    {
     "data": {
      "text/html": [
       "TRUE"
      ],
      "text/latex": [
       "TRUE"
      ],
      "text/markdown": [
       "TRUE"
      ],
      "text/plain": [
       "[1] TRUE"
      ]
     },
     "metadata": {},
     "output_type": "display_data"
    }
   ],
   "source": [
    "# Print this check in the future!!!!\n",
    "all( filt.df$sample == colnames(bs) )"
   ]
  },
  {
   "cell_type": "code",
   "execution_count": null,
   "id": "328aeed9",
   "metadata": {},
   "outputs": [],
   "source": [
    "#TODO: formula from input flags\n",
    "dml.fit <- DMLfit.multiFactor(bs, design = filt.df, smoothing = TRUE, smoothing.span = 200, \n",
    "            formula = ~cohort + PC1 + PC2 + Gran + CD8T + CD4T + NK + Bcell + bmi + age + sex)"
   ]
  },
  {
   "cell_type": "code",
   "execution_count": null,
   "id": "e3c769df",
   "metadata": {},
   "outputs": [],
   "source": [
    "colnames(dml.fit$X)\n",
    "test.cohort <- DMLtest.multiFactor(dml.fit, coef = 2)"
   ]
  },
  {
   "cell_type": "code",
   "execution_count": null,
   "id": "6956dd53",
   "metadata": {},
   "outputs": [],
   "source": [
    "table(is.na(test.cohort$stat))"
   ]
  },
  {
   "cell_type": "code",
   "execution_count": null,
   "id": "35cba94a",
   "metadata": {},
   "outputs": [],
   "source": [
    "methylation <- M / Cov\n",
    "methylation$pos <- M$pos\n",
    "fwrite(methylation, file.path(odir, \"methylation.csv\"))"
   ]
  },
  {
   "cell_type": "code",
   "execution_count": null,
   "id": "42a503ea",
   "metadata": {},
   "outputs": [],
   "source": [
    "save(list = c(\"test.cohort\"), file= file.path(odir, \"test-values.RData\"))\n",
    "fwrite(M, file.path(odir, \"M.csv\"))\n",
    "fwrite(Cov, file.path(odir, \"Cov.csv\"))\n"
   ]
  },
  {
   "cell_type": "code",
   "execution_count": null,
   "id": "f297d93a",
   "metadata": {},
   "outputs": [],
   "source": [
    "dmrs <- callDMR(test.cohort, p.threshold=0.01, minCG = 5 )"
   ]
  },
  {
   "cell_type": "code",
   "execution_count": null,
   "id": "8d1e2bb9",
   "metadata": {},
   "outputs": [],
   "source": [
    "dmrs"
   ]
  }
 ],
 "metadata": {
  "kernelspec": {
   "display_name": "R [conda env:R] *",
   "language": "R",
   "name": "conda-env-R-r"
  },
  "language_info": {
   "codemirror_mode": "r",
   "file_extension": ".r",
   "mimetype": "text/x-r-source",
   "name": "R",
   "pygments_lexer": "r",
   "version": "4.0.3"
  }
 },
 "nbformat": 4,
 "nbformat_minor": 5
}
